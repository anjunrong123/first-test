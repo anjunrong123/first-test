{
 "cells": [
  {
   "cell_type": "markdown",
   "metadata": {},
   "source": [
    "# 更多字符串和特殊方法\n",
    "- 前面我们已经学了类，在Python中还有一些特殊的方法起着非常重要的作用，这里会介绍一些特殊的方法和运算符的重载，以及使用特殊方法设计类"
   ]
  },
  {
   "cell_type": "markdown",
   "metadata": {},
   "source": [
    "## str 类\n",
    "- 一个str对象是不可变的，也就是说，一旦创建了这个字符串，那么它的内容在认为不改变的情况下是不会变的\n",
    "- s1 = str()\n",
    "- s2 = str('welcome to Python')"
   ]
  },
  {
   "cell_type": "markdown",
   "metadata": {},
   "source": [
    "## 创建两个对象，分别观察两者id\n",
    "- id为Python内存地址"
   ]
  },
  {
   "cell_type": "code",
   "execution_count": 9,
   "metadata": {},
   "outputs": [
    {
     "name": "stdout",
     "output_type": "stream",
     "text": [
      "2219092637264 2219092637200\n"
     ]
    }
   ],
   "source": [
    "a = id(257) # -5 到 256 使用的内存地址相同，大于257不同\n",
    "b = id(257)\n",
    "print (a,b)"
   ]
  },
  {
   "cell_type": "markdown",
   "metadata": {},
   "source": [
    "- is 判断内存地址\n"
   ]
  },
  {
   "cell_type": "code",
   "execution_count": 7,
   "metadata": {},
   "outputs": [
    {
     "data": {
      "text/plain": [
       "True"
      ]
     },
     "execution_count": 7,
     "metadata": {},
     "output_type": "execute_result"
    }
   ],
   "source": [
    "aa = True\n",
    "aa is True"
   ]
  },
  {
   "cell_type": "code",
   "execution_count": 8,
   "metadata": {},
   "outputs": [
    {
     "data": {
      "text/plain": [
       "False"
      ]
     },
     "execution_count": 8,
     "metadata": {},
     "output_type": "execute_result"
    }
   ],
   "source": [
    "a is b"
   ]
  },
  {
   "cell_type": "markdown",
   "metadata": {},
   "source": [
    "## 处理字符串的函数\n",
    "- len\n",
    "- max\n",
    "- min\n",
    "- 字符串一切是按照ASCII码值进行比较"
   ]
  },
  {
   "cell_type": "markdown",
   "metadata": {},
   "source": [
    "## 下角标运算符 []\n",
    "- 一个字符串是一个字符序列，可以通过索引进行访问\n",
    "- 观察字符串是否是一个可迭代序列  \\__iter__"
   ]
  },
  {
   "cell_type": "markdown",
   "metadata": {},
   "source": [
    "## 切片 [start: end]\n",
    "- start 默认值为0\n",
    "- end 默认值为-1"
   ]
  },
  {
   "cell_type": "code",
   "execution_count": 11,
   "metadata": {},
   "outputs": [
    {
     "data": {
      "text/plain": [
       "<str_iterator at 0x204ac3d4550>"
      ]
     },
     "execution_count": 11,
     "metadata": {},
     "output_type": "execute_result"
    }
   ],
   "source": [
    "'aaa'.__iter__()"
   ]
  },
  {
   "cell_type": "code",
   "execution_count": 172,
   "metadata": {},
   "outputs": [
    {
     "data": {
      "text/plain": [
       "'n'"
      ]
     },
     "execution_count": 172,
     "metadata": {},
     "output_type": "execute_result"
    }
   ],
   "source": [
    "a3='mylovefallen'\n",
    "a3[-1]"
   ]
  },
  {
   "cell_type": "code",
   "execution_count": 17,
   "metadata": {},
   "outputs": [
    {
     "data": {
      "text/plain": [
       "'mylove'"
      ]
     },
     "execution_count": 17,
     "metadata": {},
     "output_type": "execute_result"
    }
   ],
   "source": [
    "a3[0:6] #取值是前闭后开"
   ]
  },
  {
   "cell_type": "code",
   "execution_count": 174,
   "metadata": {},
   "outputs": [
    {
     "data": {
      "text/plain": [
       "'fallen'"
      ]
     },
     "execution_count": 174,
     "metadata": {},
     "output_type": "execute_result"
    }
   ],
   "source": [
    "a3[-6:] #不给值就一直到最后走完"
   ]
  },
  {
   "cell_type": "markdown",
   "metadata": {},
   "source": [
    "## 链接运算符 + 和复制运算符 *\n",
    "- \\+ 链接多个字符串，同时''.join()也是\n",
    "- \\* 复制多个字符串"
   ]
  },
  {
   "cell_type": "code",
   "execution_count": 24,
   "metadata": {},
   "outputs": [
    {
     "data": {
      "text/plain": [
       "'acbdbebf'"
      ]
     },
     "execution_count": 24,
     "metadata": {},
     "output_type": "execute_result"
    }
   ],
   "source": [
    "'a' + 'b'.join('cdef')"
   ]
  },
  {
   "cell_type": "code",
   "execution_count": 25,
   "metadata": {},
   "outputs": [
    {
     "data": {
      "text/plain": [
       "'aaaaaaaaaa'"
      ]
     },
     "execution_count": 25,
     "metadata": {},
     "output_type": "execute_result"
    }
   ],
   "source": [
    "'a' * 10"
   ]
  },
  {
   "cell_type": "code",
   "execution_count": 26,
   "metadata": {},
   "outputs": [
    {
     "data": {
      "text/plain": [
       "''"
      ]
     },
     "execution_count": 26,
     "metadata": {},
     "output_type": "execute_result"
    }
   ],
   "source": [
    "'a' * False"
   ]
  },
  {
   "cell_type": "code",
   "execution_count": 28,
   "metadata": {},
   "outputs": [
    {
     "data": {
      "text/plain": [
       "'a'"
      ]
     },
     "execution_count": 28,
     "metadata": {},
     "output_type": "execute_result"
    }
   ],
   "source": [
    "'a' * True"
   ]
  },
  {
   "cell_type": "markdown",
   "metadata": {},
   "source": [
    "## in 和 not in 运算符\n",
    "- in :判断某个字符是否在字符串内 \n",
    "- not in ：判断某个字符是否不在字符串内\n",
    "- 返回的是布尔值"
   ]
  },
  {
   "cell_type": "code",
   "execution_count": 58,
   "metadata": {},
   "outputs": [],
   "source": [
    "def find_str():\n",
    "    str_ = input('>>')\n",
    "    a4 = 'abcdefg'\n",
    "    i = 0\n",
    "    for i in a4:\n",
    "        if str_ == i:\n",
    "            print(True)\n",
    "            break\n",
    "    else:\n",
    "        print(False)\n"
   ]
  },
  {
   "cell_type": "code",
   "execution_count": 59,
   "metadata": {},
   "outputs": [
    {
     "name": "stdout",
     "output_type": "stream",
     "text": [
      ">>h\n",
      "False\n"
     ]
    }
   ],
   "source": [
    "find_str()"
   ]
  },
  {
   "cell_type": "markdown",
   "metadata": {},
   "source": [
    "## 比较字符串\n",
    "-  ==, !=, >=, <=, >, <\n",
    "- 依照ASCII码值进行比较"
   ]
  },
  {
   "cell_type": "markdown",
   "metadata": {},
   "source": [
    "## 测试字符串\n",
    "![](./Photo/99.png)\n",
    "- 注意：\n",
    "> - isalnum() 中是不能包含空格，否则会返回False"
   ]
  },
  {
   "cell_type": "code",
   "execution_count": 94,
   "metadata": {},
   "outputs": [
    {
     "data": {
      "text/plain": [
       "False"
      ]
     },
     "execution_count": 94,
     "metadata": {},
     "output_type": "execute_result"
    }
   ],
   "source": [
    "s = '1a2.3'\n",
    "s.isalnum()"
   ]
  },
  {
   "cell_type": "code",
   "execution_count": 8,
   "metadata": {},
   "outputs": [
    {
     "name": "stdout",
     "output_type": "stream",
     "text": [
      ">>aaaa\n",
      "密码必须含有大写\n",
      "密码必须含有数字\n",
      "4 0 0\n"
     ]
    }
   ],
   "source": [
    "a = input('>>')\n",
    "count1 = 0\n",
    "count2 = 0\n",
    "count3 = 0\n",
    "for i in a:\n",
    "    if i.islower() is True:\n",
    "        count1 +=1\n",
    "    if i.isupper() is True:\n",
    "        count2 +=1\n",
    "    if i.isdigit() is True:\n",
    "        count3 +=1\n",
    "else:\n",
    "    if count1 == 0:\n",
    "        print('密码必须含有小写字母')\n",
    "    if count2 == 0:\n",
    "        print('密码必须含有大写')\n",
    "    if count3 == 0:\n",
    "        print('密码必须含有数字')\n",
    "    if count1 !=0 and count2 !=0 and count3 !=0:\n",
    "        print('密码设置成功')\n",
    "print(count1,count2,count3)"
   ]
  },
  {
   "cell_type": "markdown",
   "metadata": {},
   "source": [
    "## 搜索子串\n",
    "![](./Photo/100.png)"
   ]
  },
  {
   "cell_type": "code",
   "execution_count": 11,
   "metadata": {},
   "outputs": [
    {
     "data": {
      "text/plain": [
       "True"
      ]
     },
     "execution_count": 11,
     "metadata": {},
     "output_type": "execute_result"
    }
   ],
   "source": [
    "b = 'mylovefallen'\n",
    "b.endswith('n')"
   ]
  },
  {
   "cell_type": "markdown",
   "metadata": {},
   "source": [
    "## 转换字符串\n",
    "![](./Photo/101.png)"
   ]
  },
  {
   "cell_type": "code",
   "execution_count": 23,
   "metadata": {},
   "outputs": [
    {
     "name": "stdout",
     "output_type": "stream",
     "text": [
      "RAEC\n"
     ]
    }
   ],
   "source": [
    "import random\n",
    "num1 = random.randint(65,90)\n",
    "num2 = random.randint(97,122)\n",
    "num3 = random.randint(65,90)\n",
    "num4 = random.randint(97,122)\n",
    "res = (chr(num1)+chr(num2)+chr(num3)+chr(num4)).upper()\n",
    "print(res)\n"
   ]
  },
  {
   "cell_type": "markdown",
   "metadata": {},
   "source": [
    "## 删除字符串\n",
    "![](./Photo/146.png)"
   ]
  },
  {
   "cell_type": "code",
   "execution_count": 24,
   "metadata": {},
   "outputs": [
    {
     "data": {
      "text/plain": [
       "'a;lsfiaafjal@@##'"
      ]
     },
     "execution_count": 24,
     "metadata": {},
     "output_type": "execute_result"
    }
   ],
   "source": [
    "str_ = ' a;lsfiaafjal@@## '\n",
    "str_.strip(' ')"
   ]
  },
  {
   "cell_type": "code",
   "execution_count": 55,
   "metadata": {},
   "outputs": [
    {
     "data": {
      "text/plain": [
       "'a;lsfiaafjal@@##'"
      ]
     },
     "execution_count": 55,
     "metadata": {},
     "output_type": "execute_result"
    }
   ],
   "source": [
    "a = ' a;ls fiaaf jal @@## '\n",
    "a.replace(' ','')"
   ]
  },
  {
   "cell_type": "code",
   "execution_count": 52,
   "metadata": {},
   "outputs": [
    {
     "name": "stdout",
     "output_type": "stream",
     "text": [
      "a;lsfiaafjal@@##\n"
     ]
    }
   ],
   "source": [
    "a = ' a;ls fiaaf jal @@## '\n",
    "a_ = ''\n",
    "for i in a:\n",
    "    if i != ' ':\n",
    "        a_ = a_ + i\n",
    "print(a_)"
   ]
  },
  {
   "cell_type": "markdown",
   "metadata": {},
   "source": [
    "## 格式化字符串\n",
    "![](./Photo/103.png)"
   ]
  },
  {
   "cell_type": "code",
   "execution_count": 56,
   "metadata": {},
   "outputs": [
    {
     "data": {
      "text/plain": [
       "'!!!!a!!!!!'"
      ]
     },
     "execution_count": 56,
     "metadata": {},
     "output_type": "execute_result"
    }
   ],
   "source": [
    "'a'.center(10,'!')"
   ]
  },
  {
   "cell_type": "code",
   "execution_count": 57,
   "metadata": {},
   "outputs": [
    {
     "data": {
      "text/plain": [
       "'a*********'"
      ]
     },
     "execution_count": 57,
     "metadata": {},
     "output_type": "execute_result"
    }
   ],
   "source": [
    "'a'.ljust(10,'*')"
   ]
  },
  {
   "cell_type": "code",
   "execution_count": 58,
   "metadata": {},
   "outputs": [
    {
     "data": {
      "text/plain": [
       "'#########a'"
      ]
     },
     "execution_count": 58,
     "metadata": {},
     "output_type": "execute_result"
    }
   ],
   "source": [
    "'a'.rjust(10,'#')"
   ]
  },
  {
   "cell_type": "markdown",
   "metadata": {},
   "source": [
    "## EP:\n",
    "- 1\n",
    "![](./Photo/104.png)\n",
    "- 2 \n",
    "    随机参数100个数字，将www.baidu.com/?page=进行拼接"
   ]
  },
  {
   "cell_type": "code",
   "execution_count": 60,
   "metadata": {},
   "outputs": [
    {
     "data": {
      "text/plain": [
       "8"
      ]
     },
     "execution_count": 60,
     "metadata": {},
     "output_type": "execute_result"
    }
   ],
   "source": [
    "s1 = 'Welcome to Python'\n",
    "s4 = 'to'\n",
    "s1.find(s4)"
   ]
  },
  {
   "cell_type": "markdown",
   "metadata": {},
   "source": [
    "## Python高级使用方法 -- 字符串\n",
    "- 我们经常使用的方法实际上就是调用Python的运算重载\n",
    "![](./Photo/105.png)"
   ]
  },
  {
   "cell_type": "markdown",
   "metadata": {},
   "source": [
    "# Homework\n",
    "- 1\n",
    "![](./Photo/106.png)"
   ]
  },
  {
   "cell_type": "markdown",
   "metadata": {},
   "source": [
    "- 2\n",
    "![](./Photo/107.png)"
   ]
  },
  {
   "cell_type": "code",
   "execution_count": 77,
   "metadata": {},
   "outputs": [],
   "source": [
    "def find_string():\n",
    "    str_1 = input('输入第一个字符串：')\n",
    "    str_2 = input('输入第二个字符串：')\n",
    "    res = str_1.find(str_2)\n",
    "    if res != -1:\n",
    "        print ('第二个字符串是第一个字符串的子串，'+'在下标为'+str(res)+'处')\n",
    "    else:\n",
    "        print ('第二个字符串不是第一个字符串的子串')\n",
    "    "
   ]
  },
  {
   "cell_type": "code",
   "execution_count": 78,
   "metadata": {},
   "outputs": [
    {
     "name": "stdout",
     "output_type": "stream",
     "text": [
      "输入第一个字符串：123\n",
      "输入第二个字符串：3\n",
      "第二个字符串是第一个字符串的子串，在下标为2处\n"
     ]
    }
   ],
   "source": [
    "find_string()"
   ]
  },
  {
   "cell_type": "markdown",
   "metadata": {},
   "source": [
    "- 3\n",
    "![](./Photo/108.png)"
   ]
  },
  {
   "cell_type": "code",
   "execution_count": 97,
   "metadata": {},
   "outputs": [
    {
     "data": {
      "text/plain": [
       "False"
      ]
     },
     "execution_count": 97,
     "metadata": {},
     "output_type": "execute_result"
    }
   ],
   "source": []
  },
  {
   "cell_type": "code",
   "execution_count": 107,
   "metadata": {},
   "outputs": [
    {
     "name": "stdout",
     "output_type": "stream",
     "text": [
      ">>asfa54sf6a\n",
      "10\n",
      "valid password\n"
     ]
    }
   ],
   "source": [
    "password = input('>>')\n",
    "pass_len = len(password)\n",
    "x = 0\n",
    "print(pass_len)\n",
    "if pass_len >= 8:\n",
    "    if password.isalnum() == True:\n",
    "        for i in password:\n",
    "            if i.isdigit() == True:\n",
    "                x = x+1\n",
    "        if x >= 2:\n",
    "            print ('valid password')\n",
    "        else:\n",
    "            print ('invalid password1')\n",
    "    else:\n",
    "        print ('invalid password2')\n",
    "else:\n",
    "    print ('invalid password3')"
   ]
  },
  {
   "cell_type": "markdown",
   "metadata": {},
   "source": [
    "- 4\n",
    "![](./Photo/109.png)"
   ]
  },
  {
   "cell_type": "code",
   "execution_count": 113,
   "metadata": {},
   "outputs": [],
   "source": [
    "def countLetters(s):\n",
    "    s = input('>>')\n",
    "    print(len(s))\n",
    "    \n"
   ]
  },
  {
   "cell_type": "code",
   "execution_count": 115,
   "metadata": {},
   "outputs": [
    {
     "name": "stdout",
     "output_type": "stream",
     "text": [
      ">>acd\n",
      "3\n"
     ]
    }
   ],
   "source": [
    "countLetters(s)"
   ]
  },
  {
   "cell_type": "markdown",
   "metadata": {},
   "source": [
    "- 5\n",
    "![](./Photo/110.png)"
   ]
  },
  {
   "cell_type": "code",
   "execution_count": 167,
   "metadata": {},
   "outputs": [],
   "source": []
  },
  {
   "cell_type": "code",
   "execution_count": 176,
   "metadata": {},
   "outputs": [
    {
     "name": "stdout",
     "output_type": "stream",
     "text": [
      ">>asfasfa\n"
     ]
    },
    {
     "data": {
      "text/plain": [
       "'2732732'"
      ]
     },
     "execution_count": 176,
     "metadata": {},
     "output_type": "execute_result"
    }
   ],
   "source": [
    "def zhuan(s):\n",
    "    if ord(s.lower())>=97 and ord(s.lower())<=99:\n",
    "        return '2'\n",
    "    if ord(s.lower())>=100 and ord(s.lower())<=102:\n",
    "        return '3'\n",
    "    if ord(s.lower())>=103 and ord(s.lower())<=105:\n",
    "        return '4'\n",
    "    if ord(s.lower())>=106 and ord(s.lower())<=108:\n",
    "        return '5'\n",
    "    if ord(s.lower())>=109 and ord(s.lower())<=111:\n",
    "        return '6'\n",
    "    if ord(s.lower())>=112 and ord(s.lower())<=115:\n",
    "        return '7'\n",
    "    if ord(s.lower())>=116 and ord(s.lower())<=118:\n",
    "        return '8'\n",
    "    if ord(s.lower())>=119 and ord(s.lower())<=122:\n",
    "        return '9'\n",
    "def getNumber(uppercaseLetter):\n",
    "    number = ''\n",
    "    for i in uppercaseLetter:\n",
    "        if i.isalpha():\n",
    "            number += zhuan(i)\n",
    "        else:\n",
    "            number += i\n",
    "    return number\n",
    "num = input('>>')\n",
    "getNumber(num)"
   ]
  },
  {
   "cell_type": "markdown",
   "metadata": {},
   "source": [
    "- 6\n",
    "![](./Photo/111.png)"
   ]
  },
  {
   "cell_type": "code",
   "execution_count": 227,
   "metadata": {},
   "outputs": [],
   "source": [
    "def reverse(s):\n",
    "    s = input('>>')\n",
    "    for i in range(0,(len(s)+1)):\n",
    "        str_out=s[len(s)-i-1]\n",
    "        if len(s)-i-1 >= 0:\n",
    "            print(str_out)"
   ]
  },
  {
   "cell_type": "code",
   "execution_count": 184,
   "metadata": {},
   "outputs": [
    {
     "data": {
      "text/plain": [
       "int"
      ]
     },
     "execution_count": 184,
     "metadata": {},
     "output_type": "execute_result"
    }
   ],
   "source": [
    "type(len('sss'))"
   ]
  },
  {
   "cell_type": "code",
   "execution_count": 228,
   "metadata": {},
   "outputs": [
    {
     "name": "stdout",
     "output_type": "stream",
     "text": [
      ">>123\n",
      "3\n",
      "2\n",
      "1\n"
     ]
    }
   ],
   "source": [
    "reverse(s)"
   ]
  },
  {
   "cell_type": "markdown",
   "metadata": {},
   "source": [
    "- 7\n",
    "![](./Photo/112.png)"
   ]
  },
  {
   "cell_type": "code",
   "execution_count": null,
   "metadata": {},
   "outputs": [],
   "source": []
  },
  {
   "cell_type": "markdown",
   "metadata": {},
   "source": [
    "- 8\n",
    "![](./Photo/113.png)"
   ]
  },
  {
   "cell_type": "code",
   "execution_count": 20,
   "metadata": {},
   "outputs": [],
   "source": [
    "#append() 方法向列表的尾部添加一个新的元素。只接受一个参数\n",
    "def get_ISBN_13():\n",
    "    d = []\n",
    "    num = input('输入前12位数：')\n",
    "    for i in num:\n",
    "        d.append(int(i))\n",
    "    d13 = 10-(d[0]+3*d[1]+d[2]+3*d[3]+d[4]+3*d[5]+d[6]+3*d[7]+d[8]+3*d[9]+d[10]+3*d[11])%10\n",
    "    if d13 == 10:\n",
    "        num += '0'\n",
    "    else:\n",
    "        num += str(d13)\n",
    "    print(num)"
   ]
  },
  {
   "cell_type": "code",
   "execution_count": 22,
   "metadata": {},
   "outputs": [
    {
     "name": "stdout",
     "output_type": "stream",
     "text": [
      "输入前12位数：978013213080\n",
      "9780132130806\n"
     ]
    }
   ],
   "source": [
    "get_ISBN_13()"
   ]
  },
  {
   "cell_type": "markdown",
   "metadata": {},
   "source": [
    "- 9\n",
    "![](./Photo/114.png)"
   ]
  },
  {
   "cell_type": "code",
   "execution_count": null,
   "metadata": {},
   "outputs": [],
   "source": []
  }
 ],
 "metadata": {
  "kernelspec": {
   "display_name": "Python 3",
   "language": "python",
   "name": "python3"
  },
  "language_info": {
   "codemirror_mode": {
    "name": "ipython",
    "version": 3
   },
   "file_extension": ".py",
   "mimetype": "text/x-python",
   "name": "python",
   "nbconvert_exporter": "python",
   "pygments_lexer": "ipython3",
   "version": "3.6.4"
  }
 },
 "nbformat": 4,
 "nbformat_minor": 2
}
