{
 "cells": [
  {
   "cell_type": "markdown",
   "metadata": {},
   "source": [
    "# 选择\n",
    "## 布尔类型、数值和表达式\n",
    "![](./Photo/33.png)\n",
    "- 注意：比较运算符的相等是两个等到，一个等到代表赋值\n",
    "- 在Python中可以用整型0来代表False，其他数字来代表True\n",
    "- 后面还会讲到 is 在判断语句中的用发"
   ]
  },
  {
   "cell_type": "markdown",
   "metadata": {},
   "source": [
    "## 字符串的比较使用ASCII值"
   ]
  },
  {
   "cell_type": "markdown",
   "metadata": {},
   "source": [
    "## Markdown \n",
    "- https://github.com/younghz/Markdown"
   ]
  },
  {
   "cell_type": "markdown",
   "metadata": {},
   "source": [
    "## EP:\n",
    "- <img src=\"./Photo/34.png\"></img>\n",
    "- 输入一个数字，判断其实奇数还是偶数"
   ]
  },
  {
   "cell_type": "code",
   "execution_count": 1,
   "metadata": {},
   "outputs": [
    {
     "data": {
      "text/plain": [
       "True"
      ]
     },
     "execution_count": 1,
     "metadata": {},
     "output_type": "execute_result"
    }
   ],
   "source": [
    "10 >= 10"
   ]
  },
  {
   "cell_type": "code",
   "execution_count": 9,
   "metadata": {},
   "outputs": [
    {
     "name": "stdout",
     "output_type": "stream",
     "text": [
      "请输入分数：2\n",
      "C\n"
     ]
    }
   ],
   "source": [
    "num = eval(input('请输入分数：'))\n",
    "if num >= 90:\n",
    "    print ('A')\n",
    "elif 80 <= num < 90:\n",
    "    print ('B')\n",
    "else:\n",
    "    print ('C')"
   ]
  },
  {
   "cell_type": "markdown",
   "metadata": {},
   "source": [
    "## 产生随机数字\n",
    "- 函数random.randint(a,b) 可以用来产生一个a和b之间且包括a和b的随机整数"
   ]
  },
  {
   "cell_type": "code",
   "execution_count": 6,
   "metadata": {},
   "outputs": [
    {
     "name": "stdout",
     "output_type": "stream",
     "text": [
      "请输入一个整数：10\n",
      "输入的数字太大\n",
      "请重新输入一个整数：5\n",
      "输入的数字太大\n",
      "请重新输入一个整数：2\n",
      "输入的数字太大\n",
      "请重新输入一个整数：1\n",
      "输入正确\n"
     ]
    }
   ],
   "source": [
    "import random\n",
    "rnum = random.randint(1,20)\n",
    "snum = int(input('请输入一个整数：'))\n",
    "while snum != rnum:\n",
    "    if snum < rnum:\n",
    "        print ('输入的数字太小')\n",
    "    else:\n",
    "        print ('输入的数字太大')\n",
    "    snum = int(input('请重新输入一个整数：'))\n",
    "print ('输入正确')"
   ]
  },
  {
   "cell_type": "code",
   "execution_count": 7,
   "metadata": {},
   "outputs": [
    {
     "name": "stdout",
     "output_type": "stream",
     "text": [
      "请输入一个整数：10\n",
      "输入的数字太小\n",
      "请输入一个整数：15\n",
      "输入的数字太大\n",
      "请输入一个整数：12\n",
      "输入正确\n"
     ]
    }
   ],
   "source": [
    "import random\n",
    "rnum = random.randint(1,20)\n",
    "\n",
    "while True:\n",
    "    input_num = int(input('请输入一个整数：'))\n",
    "    if input_num == rnum:\n",
    "        print ('输入正确')\n",
    "        break\n",
    "    elif input_num < rnum:\n",
    "        print ('输入的数字太小')\n",
    "    elif input_num > rnum:\n",
    "        print ('输入的数字太大')"
   ]
  },
  {
   "cell_type": "markdown",
   "metadata": {},
   "source": [
    "##  其他random方法\n",
    "- random.random 返回0.0到1.0之间前闭后开区间的随机浮点\n",
    "- random.randrange(a,b) 前闭后开"
   ]
  },
  {
   "cell_type": "code",
   "execution_count": 23,
   "metadata": {},
   "outputs": [
    {
     "data": {
      "text/plain": [
       "8"
      ]
     },
     "execution_count": 23,
     "metadata": {},
     "output_type": "execute_result"
    }
   ],
   "source": [
    "import random\n",
    "random.randrange(0,10,2)"
   ]
  },
  {
   "cell_type": "markdown",
   "metadata": {},
   "source": [
    "## EP：\n",
    "- 产生两个随机整数number1和number2，然后显示给用户，使用户输入数字的和，并判定其是否正确\n",
    "- 进阶:写一个随机序号点名程序"
   ]
  },
  {
   "cell_type": "code",
   "execution_count": 1,
   "metadata": {},
   "outputs": [
    {
     "name": "stdout",
     "output_type": "stream",
     "text": [
      "请猜一下两个随机整数的和（0~20）：10\n",
      "输入的数字太小\n",
      "请猜一下两个随机整数的和（0~20）：15\n",
      "输入的数字太大\n",
      "请猜一下两个随机整数的和（0~20）：12\n",
      "输入的数字太小\n",
      "请猜一下两个随机整数的和（0~20）：13\n",
      "输入正确\n"
     ]
    }
   ],
   "source": [
    "import random\n",
    "number1 = random.randint(1,10)\n",
    "number2 = random.randint(1,10)\n",
    "sum_ = number1 + number2\n",
    "while True:\n",
    "    input_num = int(input('请猜一下两个随机整数的和（0~20）：'))\n",
    "    if input_num == sum_:\n",
    "        print ('输入正确')\n",
    "        break\n",
    "    elif input_num < sum_:\n",
    "        print ('输入的数字太小')\n",
    "    elif input_num > sum_:\n",
    "        print ('输入的数字太大')"
   ]
  },
  {
   "cell_type": "code",
   "execution_count": 4,
   "metadata": {},
   "outputs": [
    {
     "name": "stdout",
     "output_type": "stream",
     "text": [
      "继续按1,退出按2：1\n",
      "5\n",
      "继续按1,退出按2：2\n",
      "已退出\n"
     ]
    }
   ],
   "source": [
    "import random\n",
    "num = random.randint(1,60)\n",
    "while True:\n",
    "    num = random.randint(1,60)\n",
    "    input_num = eval(input('继续按1,退出按2：'))\n",
    "    if input_num == 1:\n",
    "        print (num)\n",
    "    elif input_num == 2:\n",
    "        break\n",
    "print ('已退出')"
   ]
  },
  {
   "cell_type": "markdown",
   "metadata": {},
   "source": [
    "## if语句\n",
    "- 如果条件正确就执行一个单向if语句，亦即当条件为真的时候才执行if内部的语句\n",
    "- Python有很多选择语句:\n",
    "> - 单向if \n",
    "  - 双向if-else\n",
    "  - 嵌套if\n",
    "  - 多向if-elif-else\n",
    "  \n",
    "- 注意：当语句含有子语句的时候，那么一定至少要有一个缩进，也就是说如果有儿子存在，那么一定要缩进\n",
    "- 切记不可tab键和space混用，单用tab 或者 space\n",
    "- 当你输出的结果是无论if是否为真时都需要显示时，语句应该与if对齐"
   ]
  },
  {
   "cell_type": "code",
   "execution_count": 4,
   "metadata": {},
   "outputs": [
    {
     "name": "stdout",
     "output_type": "stream",
     "text": [
      "多少岁:18\n",
      "长相怎么样:帅\n",
      "收入怎么样:15\n",
      "收入低不见\n"
     ]
    }
   ],
   "source": [
    "age = eval(input('多少岁:'))\n",
    "if age <= 30:\n",
    "    zhangxiang = input('长相怎么样:')\n",
    "    if zhangxiang == '帅':\n",
    "        shouru = input('收入怎么样:')\n",
    "        if shouru == '高':\n",
    "            zhiwu = input('什么职务:')\n",
    "            if zhiwu == '公务员':\n",
    "                print('见')\n",
    "            else:\n",
    "                print ('工作不好不见')\n",
    "        else:\n",
    "            print('收入低不见')\n",
    "    else:\n",
    "        print('长相不好不见')\n",
    "else:\n",
    "    print ('年龄大不见')"
   ]
  },
  {
   "cell_type": "markdown",
   "metadata": {},
   "source": [
    "## EP：\n",
    "- 用户输入一个数字，判断其实奇数还是偶数\n",
    "- 进阶：可以查看下4.5实例研究猜生日"
   ]
  },
  {
   "cell_type": "markdown",
   "metadata": {},
   "source": [
    "## 双向if-else 语句\n",
    "- 如果条件为真，那么走if内部语句，否则走else内部语句"
   ]
  },
  {
   "cell_type": "markdown",
   "metadata": {},
   "source": [
    "## EP：\n",
    "- 产生两个随机整数number1和number2，然后显示给用户，使用户输入数字，并判定其是否正确,如果正确打印“you‘re correct”，否则打印正确错误"
   ]
  },
  {
   "cell_type": "markdown",
   "metadata": {},
   "source": [
    "## 嵌套if 和多向if-elif-else\n",
    "![](../Photo/35.png)"
   ]
  },
  {
   "cell_type": "markdown",
   "metadata": {},
   "source": [
    "## EP：\n",
    "- 提示用户输入一个年份，然后显示表示这一年的动物\n",
    "![](./Photo/36.png)\n",
    "- 计算身体质量指数的程序\n",
    "- BMI = 以千克为单位的体重除以以米为单位的身高\n",
    "![](./Photo/37.png)"
   ]
  },
  {
   "cell_type": "markdown",
   "metadata": {},
   "source": [
    "## 逻辑运算符\n",
    "![](../Photo/38.png)"
   ]
  },
  {
   "cell_type": "code",
   "execution_count": 3,
   "metadata": {},
   "outputs": [
    {
     "name": "stdout",
     "output_type": "stream",
     "text": [
      "请输入年份：1996\n",
      "鼠\n"
     ]
    }
   ],
   "source": [
    "year = int(input('请输入年份：'))\n",
    "num = year % 12\n",
    "if num == 0:\n",
    "    print ('猴')\n",
    "elif num == 1:\n",
    "    print ('鸡')\n",
    "elif num == 2:\n",
    "    print ('狗')\n",
    "elif num == 3:\n",
    "    print ('猪') \n",
    "elif num == 4:\n",
    "    print ('鼠')\n",
    "elif num == 5:\n",
    "    print ('牛')\n",
    "elif num == 6:\n",
    "    print ('虎')\n",
    "elif num == 7:\n",
    "    print ('兔')\n",
    "elif num == 8:\n",
    "    print ('龙')\n",
    "elif num == 9:\n",
    "    print ('蛇') \n",
    "elif num == 10:\n",
    "    print ('马')\n",
    "elif num == 11:\n",
    "    print ('羊')"
   ]
  },
  {
   "cell_type": "code",
   "execution_count": 7,
   "metadata": {},
   "outputs": [
    {
     "name": "stdout",
     "output_type": "stream",
     "text": [
      "请输入你的体重（kg）：60\n",
      "请输入你的身高（m）：1.76\n",
      "标准\n"
     ]
    }
   ],
   "source": [
    "weight = eval(input('请输入你的体重（kg）：'))\n",
    "height = eval(input('请输入你的身高（m）：'))\n",
    "BMI = weight / (height * height)\n",
    "if BMI < 18.5:\n",
    "    print('超轻')\n",
    "elif 18.5 <= BMI < 25:\n",
    "    print('标准')\n",
    "elif 25 <= BMI < 30:\n",
    "    print('超重')\n",
    "elif 30 <= BMI:\n",
    "    print('痴肥')"
   ]
  },
  {
   "cell_type": "markdown",
   "metadata": {},
   "source": [
    "## EP：\n",
    "- 判定闰年：一个年份如果能被4整除但不能被100整除，或者能被400整除，那么这个年份就是闰年\n",
    "- 提示用户输入一个年份，并返回是否是闰年\n",
    "- 提示用户输入一个数字，判断其是否为水仙花数"
   ]
  },
  {
   "cell_type": "code",
   "execution_count": 23,
   "metadata": {},
   "outputs": [
    {
     "name": "stdout",
     "output_type": "stream",
     "text": [
      "输入一个年份：2020\n",
      "2020年是闰年\n"
     ]
    }
   ],
   "source": [
    "year = int(input('输入一个年份：'))\n",
    "if (year % 4 == 0 and year % 100 !=0) or (year % 400 == 0):\n",
    "    print (str(year)+'年是闰年')\n",
    "else:\n",
    "    print (str(year)+'年不是闰年')"
   ]
  },
  {
   "cell_type": "code",
   "execution_count": 32,
   "metadata": {},
   "outputs": [
    {
     "name": "stdout",
     "output_type": "stream",
     "text": [
      "输入一个数字：1634\n",
      "1634水仙花数\n"
     ]
    }
   ],
   "source": [
    "num = int(input('输入一个数字：'))\n",
    "weishu = num\n",
    "n = num\n",
    "sum_ = 0\n",
    "i = 0\n",
    "while weishu > 0:\n",
    "    weishu = weishu // 10\n",
    "    i += 1\n",
    "while num > 0:\n",
    "    x = num % 10\n",
    "    num = num // 10\n",
    "    sum_ += x**i\n",
    "if sum_ == n:\n",
    "    print (str(n)+'水仙花数')\n",
    "else:\n",
    "    print (str(n)+'不是水仙花数')"
   ]
  },
  {
   "cell_type": "code",
   "execution_count": 26,
   "metadata": {},
   "outputs": [
    {
     "name": "stdout",
     "output_type": "stream",
     "text": [
      "输入一个数字：153\n",
      "153是水仙花数\n"
     ]
    }
   ],
   "source": [
    "num = int(input('输入一个数字：'))\n",
    "n = num\n",
    "sum_ = 0\n",
    "while num > 0:\n",
    "    x = num % 10        \n",
    "    num = num // 10\n",
    "    sum_ += x**3\n",
    "if sum_ == n:\n",
    "    print (str(sum_)+'是水仙花数')\n",
    "else:\n",
    "    print (str(sum_)+'不是水仙花数')"
   ]
  },
  {
   "cell_type": "code",
   "execution_count": 5,
   "metadata": {},
   "outputs": [
    {
     "data": {
      "text/plain": [
       "15.3"
      ]
     },
     "execution_count": 5,
     "metadata": {},
     "output_type": "execute_result"
    }
   ],
   "source": []
  },
  {
   "cell_type": "markdown",
   "metadata": {},
   "source": [
    "![](./Photo/38.png)"
   ]
  },
  {
   "cell_type": "code",
   "execution_count": 11,
   "metadata": {},
   "outputs": [
    {
     "name": "stdout",
     "output_type": "stream",
     "text": [
      "True\n",
      "False\n"
     ]
    }
   ],
   "source": [
    "a = [1,2,3,4]\n",
    "print (1 in a)\n",
    "print (1 not in a)"
   ]
  },
  {
   "cell_type": "markdown",
   "metadata": {},
   "source": [
    "![](./Photo/39.png)"
   ]
  },
  {
   "cell_type": "markdown",
   "metadata": {},
   "source": [
    "![](./Photo/41.png)"
   ]
  },
  {
   "cell_type": "code",
   "execution_count": null,
   "metadata": {},
   "outputs": [],
   "source": [
    "num = int(input('输入你的彩票数字：'))\n"
   ]
  },
  {
   "cell_type": "markdown",
   "metadata": {},
   "source": [
    "## 实例研究：彩票\n",
    "![](../Photo/41.png)"
   ]
  },
  {
   "cell_type": "markdown",
   "metadata": {},
   "source": [
    "# Homework\n",
    "- 1\n",
    "![](./Photo/42.png)"
   ]
  },
  {
   "cell_type": "code",
   "execution_count": 36,
   "metadata": {},
   "outputs": [
    {
     "name": "stdout",
     "output_type": "stream",
     "text": [
      "Enter a,b,c:1,2,3\n",
      "The equation has no real roots\n"
     ]
    }
   ],
   "source": [
    "import math\n",
    "a,b,c = eval(input('Enter a,b,c:'))\n",
    "if b * b - 4 * a * c > 0:\n",
    "    r1 = (-b + math.sqrt(b * b - 4 * a * c))/(2 * a)\n",
    "    r2 = (-b - math.sqrt(b * b - 4 * a * c))/(2 * a)\n",
    "    print ('The roots are '+str(r1)+' and '+str(r2))\n",
    "elif  b * b - 4 * a * c == 0:\n",
    "    r1 = (-b + math.sqrt(b * b - 4 * a * c))/(2 * a)\n",
    "    print ('The roots is '+str(r1))\n",
    "else:\n",
    "    print('The equation has no real roots')"
   ]
  },
  {
   "cell_type": "markdown",
   "metadata": {},
   "source": [
    "- 2\n",
    "![](./Photo/43.png)"
   ]
  },
  {
   "cell_type": "code",
   "execution_count": 44,
   "metadata": {},
   "outputs": [
    {
     "name": "stdout",
     "output_type": "stream",
     "text": [
      "29+23=52\n",
      "回答正确\n"
     ]
    }
   ],
   "source": [
    "import random\n",
    "num1 = random.randint(0,100)\n",
    "num2 = random.randint(0,100)\n",
    "print(str(num1)+'+'+str(num2)+'=',end='')\n",
    "sum_ = int(input())\n",
    "if sum_ == num1 + num2:\n",
    "    print('回答正确')\n",
    "else:\n",
    "    print('回答错误')"
   ]
  },
  {
   "cell_type": "markdown",
   "metadata": {},
   "source": [
    "- 3\n",
    "![](./Photo/44.png)"
   ]
  },
  {
   "cell_type": "code",
   "execution_count": 49,
   "metadata": {},
   "outputs": [
    {
     "name": "stdout",
     "output_type": "stream",
     "text": [
      "今天是星期:0\n",
      "要查询多少天后的今天是星期几:31\n",
      "31天后是星期3\n"
     ]
    }
   ],
   "source": [
    "weekend = int(input('今天是星期:'))\n",
    "xday = int(input('要查询多少天后的今天是星期几:'))\n",
    "tenday = (xday+weekend)%7\n",
    "print (str(xday)+'天后是星期'+str(tenday))"
   ]
  },
  {
   "cell_type": "markdown",
   "metadata": {},
   "source": [
    "- 4\n",
    "![](./Photo/45.png)"
   ]
  },
  {
   "cell_type": "code",
   "execution_count": 63,
   "metadata": {},
   "outputs": [
    {
     "name": "stdout",
     "output_type": "stream",
     "text": [
      "输入三个整数：10,5,2\n",
      "2<5<10\n"
     ]
    }
   ],
   "source": [
    "n1,n2,n3 = eval(input('输入三个整数：'))\n",
    "zuida = max(n1,n2,n3)\n",
    "zuixiao = min(n1,n2,n3)\n",
    "a = [zuida,zuixiao]\n",
    "if n1 not in a:\n",
    "    print(str(zuixiao)+'<'+str(n1)+'<'+str(zuida))\n",
    "elif n2 not in a:\n",
    "    print(str(zuixiao)+'<'+str(n2)+'<'+str(zuida))\n",
    "elif n3 not in a:\n",
    "    print(str(zuixiao)+'<'+str(n3)+'<'+str(zuida))"
   ]
  },
  {
   "cell_type": "code",
   "execution_count": 59,
   "metadata": {},
   "outputs": [
    {
     "name": "stdout",
     "output_type": "stream",
     "text": [
      "输入三个整数：2,1,3\n",
      "1<2<3\n"
     ]
    }
   ],
   "source": [
    "num1,num2,num3 = eval(input('输入三个整数：'))\n",
    "if (num1 > num2) and (num1 > num3):\n",
    "    if num2 > num3:\n",
    "        print (str(num3)+'<'+str(num2)+'<'+str(num1))\n",
    "    else:\n",
    "        print (str(num2)+'<'+str(num3)+'<'+str(num1))\n",
    "elif (num2 > num1) and (num2 > num3):\n",
    "    if num1 > num3:\n",
    "        print (str(num3)+'<'+str(num1)+'<'+str(num2))\n",
    "    else:\n",
    "        print (str(num1)+'<'+str(num3)+'<'+str(num2))\n",
    "elif (num3 > num1) and (num3 > num2):\n",
    "    if num1 > num2:\n",
    "        print (str(num2)+'<'+str(num1)+'<'+str(num3))\n",
    "    else:\n",
    "        print (str(num1)+'<'+str(num2)+'<'+str(num3))"
   ]
  },
  {
   "cell_type": "markdown",
   "metadata": {},
   "source": [
    "- 5\n",
    "![](./Photo/46.png)"
   ]
  },
  {
   "cell_type": "code",
   "execution_count": 65,
   "metadata": {},
   "outputs": [
    {
     "name": "stdout",
     "output_type": "stream",
     "text": [
      "请输入第一种大米的总重和单价：50,24.59\n",
      "请输入第二种大米的总重和单价：25,11.99\n",
      "第二种大米好\n"
     ]
    }
   ],
   "source": [
    "w1,p1 = eval(input('请输入第一种大米的总重和单价：'))\n",
    "w2,p2 = eval(input('请输入第二种大米的总重和单价：'))\n",
    "if w1 / p1 > w2 / p2:\n",
    "    print('第一种大米好')\n",
    "else:\n",
    "    print('第二种大米好')"
   ]
  },
  {
   "cell_type": "markdown",
   "metadata": {},
   "source": [
    "- 6\n",
    "![](./Photo/47.png)"
   ]
  },
  {
   "cell_type": "code",
   "execution_count": 72,
   "metadata": {},
   "outputs": [
    {
     "name": "stdout",
     "output_type": "stream",
     "text": [
      "输入年份和月份1996,12\n",
      "1996年的12月份有31天\n"
     ]
    }
   ],
   "source": [
    "year,mouth = eval(input('输入年份和月份'))\n",
    "a = [1,3,5,7,8,10,12]\n",
    "b = [4,6,9,11]\n",
    "if mouth == 2:\n",
    "    if (year % 4 == 0 and year % 100 !=0) or (year % 400 == 0):\n",
    "        print (str(year)+'年的'+str(mouth)+'月份有29天')\n",
    "    else:\n",
    "        print (str(year)+'年的'+str(mouth)+'月份有28天')\n",
    "elif mouth in a:\n",
    "     print (str(year)+'年的'+str(mouth)+'月份有31天')\n",
    "elif mouth in b:\n",
    "     print (str(year)+'年的'+str(mouth)+'月份有30天')     "
   ]
  },
  {
   "cell_type": "markdown",
   "metadata": {},
   "source": [
    "- 7\n",
    "![](./Photo/48.png)"
   ]
  },
  {
   "cell_type": "code",
   "execution_count": 76,
   "metadata": {},
   "outputs": [
    {
     "name": "stdout",
     "output_type": "stream",
     "text": [
      "猜一下硬币是哪面朝上（1是正面，2是反面）：2\n",
      "恭喜你，猜对了\n"
     ]
    }
   ],
   "source": [
    "import random\n",
    "yingbi = random.randint(1,2)\n",
    "guest = int(input('猜一下硬币是哪面朝上（1是正面，2是反面）：'))\n",
    "if guest == yingbi:\n",
    "    print('恭喜你，猜对了')\n",
    "else:\n",
    "    print('抱歉，你猜错了')"
   ]
  },
  {
   "cell_type": "markdown",
   "metadata": {},
   "source": [
    "- 8\n",
    "![](./Photo/49.png)"
   ]
  },
  {
   "cell_type": "code",
   "execution_count": 90,
   "metadata": {},
   "outputs": [
    {
     "name": "stdout",
     "output_type": "stream",
     "text": [
      "石头（0），剪刀（1），布（2）：2\n",
      "抱歉，你输了\n",
      "1\n"
     ]
    }
   ],
   "source": [
    "import random\n",
    "people = eval(input('石头（0），剪刀（1），布（2）：'))\n",
    "sys = random.randint(0,2)\n",
    "if people != sys:\n",
    "    if sys == 0 and people == 1 or sys == 1 and people ==2 or sys == 2 and people == 0:\n",
    "        print ('抱歉，你输了')\n",
    "    else:\n",
    "        print ('你赢了')\n",
    "else:\n",
    "    print('平局')\n",
    "print(sys)"
   ]
  },
  {
   "cell_type": "code",
   "execution_count": null,
   "metadata": {},
   "outputs": [],
   "source": [
    "h = (day + (26*(month+1)/10)+year%100+((year%100)/4)+((year//100)/4)+5*(year*100))%7\n"
   ]
  },
  {
   "cell_type": "markdown",
   "metadata": {},
   "source": [
    "- 9\n",
    "![](./Photo/50.png)"
   ]
  },
  {
   "cell_type": "code",
   "execution_count": 11,
   "metadata": {},
   "outputs": [
    {
     "name": "stdout",
     "output_type": "stream",
     "text": [
      "请输入年份：2018\n",
      "请输入月份9\n",
      "输入这个月的某一天12\n",
      "这一天是星期三\n"
     ]
    }
   ],
   "source": [
    "import math\n",
    "year = int(input('请输入年份：'))\n",
    "month = int(input('请输入月份'))\n",
    "day = int(input('输入这个月的某一天'))\n",
    "if month == 1 or month == 2:\n",
    "    year=year-1\n",
    "    month=month+12\n",
    "h = (day + (26*(month+1)/10)+year%100+((year%100)/4)+((year//100)/4)+5*(year//100))%7\n",
    "if math.floor(h)==0:\n",
    "    print ('这一天是星期六')\n",
    "elif math.floor(h)==1:\n",
    "    print ('这一天是星期日')\n",
    "elif math.floor(h)==2:\n",
    "    print ('这一天是星期一')\n",
    "elif math.floor(h)==3:\n",
    "    print ('这一天是星期二')\n",
    "elif math.floor(h)==4:\n",
    "    print ('这一天是星期三')\n",
    "elif math.floor(h)==5:\n",
    "    print ('这一天是星期四')\n",
    "elif math.floor(h)==6:\n",
    "    print ('这一天是星期五')"
   ]
  },
  {
   "cell_type": "markdown",
   "metadata": {},
   "source": [
    "- 10\n",
    "![](./Photo/51.png)"
   ]
  },
  {
   "cell_type": "code",
   "execution_count": 30,
   "metadata": {},
   "outputs": [
    {
     "name": "stdout",
     "output_type": "stream",
     "text": [
      "梅花Jack\n"
     ]
    }
   ],
   "source": [
    "import random\n",
    "pnum = random.randint(1,13)\n",
    "huase = random.randint(101,104)\n",
    "if huase == 101:\n",
    "    huase = '梅花'\n",
    "elif huase == 102:\n",
    "    huase = '红桃'\n",
    "elif huase == 103:\n",
    "    huase = '方块'\n",
    "elif huase == 104:\n",
    "    huase = '黑桃'\n",
    "if pnum == 1:\n",
    "    pnum = 'Ace'\n",
    "elif pnum == 11:\n",
    "    pnum = 'Jack'\n",
    "elif pnum == 12:\n",
    "    pnum = 'Queen'\n",
    "elif pnum == 13:\n",
    "    punm = 'King'\n",
    "print(str(huase)+str(pnum))"
   ]
  },
  {
   "cell_type": "markdown",
   "metadata": {},
   "source": [
    "- 11\n",
    "![](./Photo/52.png)"
   ]
  },
  {
   "cell_type": "code",
   "execution_count": 45,
   "metadata": {},
   "outputs": [
    {
     "name": "stdout",
     "output_type": "stream",
     "text": [
      "输入一个三位整数664\n",
      "664不是回文数字\n"
     ]
    }
   ],
   "source": [
    "num = int(input('输入一个三位整数'))\n",
    "if num // 100 == num % 10:\n",
    "    print(str(num)+'是一个回文数字')\n",
    "else:\n",
    "    print(str(num)+'不是回文数字')"
   ]
  },
  {
   "cell_type": "markdown",
   "metadata": {},
   "source": [
    "- 12\n",
    "![](./Photo/53.png)"
   ]
  },
  {
   "cell_type": "code",
   "execution_count": 49,
   "metadata": {},
   "outputs": [
    {
     "name": "stdout",
     "output_type": "stream",
     "text": [
      "输入三角形的各个边长：1,3,8\n",
      "这不是合法的三角形\n"
     ]
    }
   ],
   "source": [
    "a,b,c = eval(input('输入三角形的各个边长：'))\n",
    "if a+b>c and a+c>b and b+c>a:\n",
    "    s = a + b + c\n",
    "    print ('三角形的边长是'+str(s))\n",
    "else:\n",
    "    print ('这不是合法的三角形')"
   ]
  }
 ],
 "metadata": {
  "kernelspec": {
   "display_name": "Python 3",
   "language": "python",
   "name": "python3"
  },
  "language_info": {
   "codemirror_mode": {
    "name": "ipython",
    "version": 3
   },
   "file_extension": ".py",
   "mimetype": "text/x-python",
   "name": "python",
   "nbconvert_exporter": "python",
   "pygments_lexer": "ipython3",
   "version": "3.6.4"
  }
 },
 "nbformat": 4,
 "nbformat_minor": 2
}
