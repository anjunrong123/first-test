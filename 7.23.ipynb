{
 "cells": [
  {
   "cell_type": "markdown",
   "metadata": {},
   "source": [
    "# 对象和类\n",
    "- 一个学生，一张桌子，一个圆都是对象\n",
    "- 对象是类的一个实例，你可以创建多个对象，创建类的一个实例过程被称为实例化，\n",
    "- 在Python中对象就是实例，而实例就是对象"
   ]
  },
  {
   "cell_type": "code",
   "execution_count": 11,
   "metadata": {},
   "outputs": [
    {
     "ename": "ModuleNotFoundError",
     "evalue": "No module named 'pygame'",
     "output_type": "error",
     "traceback": [
      "\u001b[1;31m---------------------------------------------------------------------------\u001b[0m",
      "\u001b[1;31mModuleNotFoundError\u001b[0m                       Traceback (most recent call last)",
      "\u001b[1;32m<ipython-input-11-8a9800b2e475>\u001b[0m in \u001b[0;36m<module>\u001b[1;34m()\u001b[0m\n\u001b[1;32m----> 1\u001b[1;33m \u001b[1;32mimport\u001b[0m \u001b[0mpygame\u001b[0m\u001b[1;33m\u001b[0m\u001b[0m\n\u001b[0m\u001b[0;32m      2\u001b[0m \u001b[0mpygame\u001b[0m\u001b[1;33m.\u001b[0m\u001b[0mmixer\u001b[0m\u001b[1;33m.\u001b[0m\u001b[0minit\u001b[0m\u001b[1;33m(\u001b[0m\u001b[1;33m)\u001b[0m\u001b[1;33m\u001b[0m\u001b[0m\n\u001b[0;32m      3\u001b[0m \u001b[1;32mclass\u001b[0m \u001b[0mMusic\u001b[0m\u001b[1;33m(\u001b[0m\u001b[1;33m)\u001b[0m\u001b[1;33m:\u001b[0m\u001b[1;33m\u001b[0m\u001b[0m\n\u001b[0;32m      4\u001b[0m     \u001b[1;32mdef\u001b[0m \u001b[0mplay\u001b[0m\u001b[1;33m(\u001b[0m\u001b[1;33m)\u001b[0m\u001b[1;33m:\u001b[0m\u001b[1;33m\u001b[0m\u001b[0m\n\u001b[0;32m      5\u001b[0m         \u001b[0mprint\u001b[0m\u001b[1;33m(\u001b[0m\u001b[1;34m\"播放音乐2\"\u001b[0m\u001b[1;33m)\u001b[0m\u001b[1;33m\u001b[0m\u001b[0m\n",
      "\u001b[1;31mModuleNotFoundError\u001b[0m: No module named 'pygame'"
     ]
    }
   ],
   "source": [
    "import pygame\n",
    "pygame.mixer.init()\n",
    "class Music():\n",
    "    def play():\n",
    "        print(\"播放音乐2\")\n",
    "        track1=pygame.mixer.music.load(\"D:\\song\\任素汐 - 我要你.mp3\")\n",
    "        pygame.mixer.music.play()\n",
    "Music().track1"
   ]
  },
  {
   "cell_type": "markdown",
   "metadata": {},
   "source": [
    "## 定义类\n",
    "class ClassName:\n",
    "\n",
    "    do something\n",
    "    \n",
    "- class 类的表示与def 一样\n",
    "- 类名最好使用驼峰式\n",
    "- 在Python2中类是需要继承基类object的，在Python中默认继承，可写可不写\n",
    "- 可以将普通代码理解为皮肤，而函数可以理解为内衣，那么类可以理解为外套"
   ]
  },
  {
   "cell_type": "markdown",
   "metadata": {},
   "source": [
    "## 定义一个不含初始化__init__的简单类\n",
    "class ClassName:\n",
    "\n",
    "    joker = “Home”\n",
    "    \n",
    "    def func():\n",
    "        print('Worker')\n",
    "    \n",
    "- 尽量少使用"
   ]
  },
  {
   "cell_type": "code",
   "execution_count": 26,
   "metadata": {},
   "outputs": [],
   "source": [
    "class Class_name:\n",
    "    def __init__(self):  # 类中的初始化的一个函数\n",
    "        self.ajr = '123'\n",
    "    def fun1(self):    #self 代表fun1是类中的函数\n",
    "        print (self.ajr)\n",
    "    def fun2(self):\n",
    "        self.fun1\n"
   ]
  },
  {
   "cell_type": "code",
   "execution_count": 27,
   "metadata": {},
   "outputs": [
    {
     "name": "stdout",
     "output_type": "stream",
     "text": [
      "123\n"
     ]
    }
   ],
   "source": [
    "Class_name().fun1()  #类名 + （）就代表了走初始化函数"
   ]
  },
  {
   "cell_type": "markdown",
   "metadata": {},
   "source": [
    "## 定义一个标准类\n",
    "- __init__ 代表初始化，可以初始化任何动作\n",
    "- 此时类调用要使用()，其中（）可以理解为开始初始化\n",
    "- 初始化内的元素，类中其他的函数可以共享\n",
    "![](../Photo/85.png)"
   ]
  },
  {
   "cell_type": "markdown",
   "metadata": {},
   "source": [
    "- Circle 和 className_ 的第一个区别有 __init__ 这个函数\n",
    "- 。。。。   第二个区别，类中的每一个函数都有self的这个“参数”"
   ]
  },
  {
   "cell_type": "markdown",
   "metadata": {},
   "source": [
    "## 何为self？\n",
    "- self 是指向对象本身的参数\n",
    "- self 只是一个命名规则，其实可以改变的，但是我们约定俗成的是self，也便于理解\n",
    "- 使用了self就可以访问类中定义的成员\n",
    "<img src=\"./Photo/86.png\"></img>"
   ]
  },
  {
   "cell_type": "markdown",
   "metadata": {},
   "source": [
    "## 使用类 Cirlcle"
   ]
  },
  {
   "cell_type": "markdown",
   "metadata": {},
   "source": [
    "## 类的传参\n",
    "- class ClassName:\n",
    "    \n",
    "        def __init__(self, para1,para2...)：\n",
    "            \n",
    "            self.para1 = para1\n",
    "            \n",
    "            self.para2 = para2"
   ]
  },
  {
   "cell_type": "code",
   "execution_count": null,
   "metadata": {},
   "outputs": [],
   "source": []
  },
  {
   "cell_type": "code",
   "execution_count": 90,
   "metadata": {},
   "outputs": [],
   "source": [
    "# class CiMi:\n",
    "#     def __init__(self):\n",
    "#         self.num = 3\n",
    "#         self.x = 0\n",
    "#         self.y = 0\n",
    "#     def hs1(self):\n",
    "#         self.x = self.num**2\n",
    "#         print(self.x)\n",
    "#     def hs2(self):\n",
    "#         self.y = self.num**3\n",
    "#         print(self.y)\n",
    "#     def hs3(self):\n",
    "#         z = self.x + self.y\n",
    "#         print (z)\n",
    "# 第二种\n",
    "# class CiMi:\n",
    "#     def __init__(self):\n",
    "#         self.num = 3\n",
    "#         self.x = 0\n",
    "#         self.y = 0\n",
    "#     def hs1(self):\n",
    "#         self.x = self.num**2\n",
    "#         print(self.x)\n",
    "#     def hs2(self):\n",
    "#         self.y = self.num**3\n",
    "#         print(self.y)\n",
    "#     def hs3(self):\n",
    "#         self.hs1()\n",
    "#         self.hs2()\n",
    "#         z = self.x + self.y\n",
    "#         print (z)\n",
    "# 第三种\n",
    "class CiMi:\n",
    "    def __init__(self):\n",
    "        self.num = 3\n",
    "    def hs1(self):\n",
    "        x = self.num**2\n",
    "        return x\n",
    "        \n",
    "    def hs2(self):\n",
    "        y = self.num**3\n",
    "        return y\n",
    "       \n",
    "    def hs3(self):\n",
    "        x1=self.hs1()\n",
    "        y1=self.hs2()\n",
    "        z = x1 + y1\n",
    "        print (z)\n",
    "            \n",
    "        "
   ]
  },
  {
   "cell_type": "code",
   "execution_count": 92,
   "metadata": {},
   "outputs": [
    {
     "name": "stdout",
     "output_type": "stream",
     "text": [
      "36\n"
     ]
    }
   ],
   "source": [
    "#创建一个实例。 A就相当于初始完之后的类\n",
    "# A = CiMi()\n",
    "# A.hs1()\n",
    "# A.hs2()\n",
    "# A.hs3()\n",
    "#第三种\n",
    "# CiMi()\n",
    "# CiMi().hs1()\n",
    "# CiMi().hs2()\n",
    "# CiMi().hs3()\n",
    "A = CiMi()  # A就相当于初始完毕后的Joker\n",
    "A.hs1()\n",
    "A.hs2()\n",
    "A.hs3()"
   ]
  },
  {
   "cell_type": "markdown",
   "metadata": {},
   "source": [
    "## EP:\n",
    "- A：定义一个类，类中含有两个功能：\n",
    "    - 1、计算随机数的最大值\n",
    "    - 2、计算随机数的最小值\n",
    "- B：定义一个类，（类中函数的嵌套使用）\n",
    "    - 1、第一个函数的功能为：输入一个数字\n",
    "    - 2、第二个函数的功能为：使用第一个函数中得到的数字进行平方处理\n",
    "    - 3、第三个函数的功能为：得到平方处理后的数字 - 原来输入的数字，并打印结果"
   ]
  },
  {
   "cell_type": "markdown",
   "metadata": {},
   "source": [
    "## 类的继承\n",
    "- 类的单继承\n",
    "- 类的多继承\n",
    "- 继承标识\n",
    ">  class SonClass(FatherClass):\n",
    "            \n",
    "            def __init__(self):\n",
    "            \n",
    "                FatherClass.__init__(self)"
   ]
  },
  {
   "cell_type": "code",
   "execution_count": 4,
   "metadata": {},
   "outputs": [],
   "source": [
    "class Father_class:\n",
    "    def __init__(self):\n",
    "        self.txt='father'\n",
    "    def showtxt(self):\n",
    "        print(self.txt)    "
   ]
  },
  {
   "cell_type": "code",
   "execution_count": 8,
   "metadata": {},
   "outputs": [],
   "source": [
    "class Son_class(Father_class):\n",
    "    def __init__(self):\n",
    "        Father_class .__init__(self)\n",
    "        self.t='Son'\n",
    "    def showt(self):\n",
    "        print(self.t)\n",
    "        print(self.txt)\n",
    "        print(self.showtxt)"
   ]
  },
  {
   "cell_type": "code",
   "execution_count": 9,
   "metadata": {},
   "outputs": [
    {
     "name": "stdout",
     "output_type": "stream",
     "text": [
      "Son\n",
      "father\n",
      "<bound method Father_class.showtxt of <__main__.Son_class object at 0x000001856A3F4A58>>\n"
     ]
    }
   ],
   "source": [
    "Son_class().showt()"
   ]
  },
  {
   "cell_type": "code",
   "execution_count": 16,
   "metadata": {},
   "outputs": [],
   "source": [
    "class CiMi:\n",
    "    def __init__(self):\n",
    "        self.num = 3\n",
    "        self.x = 0\n",
    "        self.y = 0\n",
    "    def hs1(self):\n",
    "        self.x = self.num**2\n",
    "        print(self.x)\n",
    "    def hs2(self):\n",
    "        self.y = self.num**3\n",
    "        print(self.y)"
   ]
  },
  {
   "cell_type": "code",
   "execution_count": 17,
   "metadata": {},
   "outputs": [],
   "source": [
    "class Son_CiMi(CiMi):\n",
    "    def __init__(self):\n",
    "        CiMi.__init__(self)\n",
    "    def res(self):\n",
    "        self.hs1()\n",
    "        self.hs2()\n",
    "        z = self.x + self.y\n",
    "        print (z)"
   ]
  },
  {
   "cell_type": "code",
   "execution_count": 18,
   "metadata": {},
   "outputs": [
    {
     "name": "stdout",
     "output_type": "stream",
     "text": [
      "9\n",
      "27\n",
      "36\n"
     ]
    }
   ],
   "source": [
    "Son_CiMi().res()"
   ]
  },
  {
   "cell_type": "markdown",
   "metadata": {},
   "source": [
    "## 私有数据域(私有变量，或者私有函数)\n",
    "- 在Python中 变量名或者函数名使用双下划线代表私有  \\__Joker,   def \\__Joker():\n",
    "- 私有数据域不可继承\n",
    "- 私有数据域强制继承   \\__dir__()"
   ]
  },
  {
   "cell_type": "markdown",
   "metadata": {},
   "source": [
    "![](../Photo/87.png)"
   ]
  },
  {
   "cell_type": "markdown",
   "metadata": {},
   "source": [
    "## EP:\n",
    "![](./Photo/88.png)\n",
    "![](./Photo/89.png)\n",
    "![](./Photo/90.png)\n"
   ]
  },
  {
   "cell_type": "code",
   "execution_count": 6,
   "metadata": {},
   "outputs": [],
   "source": [
    "#赋值\n",
    "class get_pow2_pow3:\n",
    "    def __init__(self,num1,num2):\n",
    "        self.num1 = num1\n",
    "        self.num2 = num2\n",
    "        self.res1 = None\n",
    "        self.res2 = None\n",
    "    def pow2_pow3(self):\n",
    "        self.res1 = self.num1 ** 2\n",
    "        self.res2 = self.num2 ** 3"
   ]
  },
  {
   "cell_type": "code",
   "execution_count": 7,
   "metadata": {},
   "outputs": [],
   "source": [
    "class chazhi(get_pow2_pow3):\n",
    "    def __init__(self,num1,num2):\n",
    "        get_pow2_pow3.__init__(self,num1,num2)\n",
    "    def cz(self):\n",
    "        print(self.res1 - self.res2)\n",
    "        "
   ]
  },
  {
   "cell_type": "code",
   "execution_count": 8,
   "metadata": {},
   "outputs": [
    {
     "name": "stdout",
     "output_type": "stream",
     "text": [
      "-990000\n"
     ]
    }
   ],
   "source": [
    "B = chazhi(100,100)\n",
    "B.pow2_pow3()\n",
    "B.cz()"
   ]
  },
  {
   "cell_type": "code",
   "execution_count": null,
   "metadata": {},
   "outputs": [],
   "source": []
  },
  {
   "cell_type": "code",
   "execution_count": 9,
   "metadata": {},
   "outputs": [],
   "source": [
    "class get_pow2_pow3:\n",
    "    def __init__(self,num1,num2):\n",
    "        self.num1 = num1\n",
    "        self.num2 = num2\n",
    "    def pow2_pow3(self):\n",
    "        res1 = self.num1 ** 2\n",
    "        res2 = self.num2 ** 3\n",
    "        return res1,res2"
   ]
  },
  {
   "cell_type": "code",
   "execution_count": 11,
   "metadata": {},
   "outputs": [],
   "source": [
    "class chazhi(get_pow2_pow3):\n",
    "    def __init__(self,num1,num2):\n",
    "        get_pow2_pow3.__init__(self,num1,num2)\n",
    "    def cz(self):\n",
    "        RES1,RES2 = self.pow2_pow3()\n",
    "        print(RES1 -RES2)"
   ]
  },
  {
   "cell_type": "markdown",
   "metadata": {},
   "source": [
    "## 类的其他\n",
    "- 类的封装\n",
    "    - 实际上就是将一类功能放在一起，方便未来进行管理\n",
    "- 类的继承（上面已经讲过）\n",
    "- 类的多态\n",
    "    - 包括装饰器：将放在以后处理高级类中教\n",
    "    - 装饰器的好处：当许多类中的函数需要使用同一个功能的时候，那么使用装饰器就会方便许多\n",
    "    - 装饰器是有固定的写法\n",
    "        - 其包括普通装饰器与带参装饰器"
   ]
  },
  {
   "cell_type": "code",
   "execution_count": 3,
   "metadata": {},
   "outputs": [],
   "source": [
    "class pow_2():\n",
    "    def __init__(self):\n",
    "        self.num=3\n",
    "    def hs1(self):\n",
    "        self.x = self.num**2"
   ]
  },
  {
   "cell_type": "code",
   "execution_count": 2,
   "metadata": {},
   "outputs": [],
   "source": [
    "class pow_3():\n",
    "    def __init__(self):\n",
    "        self.num1=3\n",
    "    def hs2(self):\n",
    "        self.y = self.num1**3"
   ]
  },
  {
   "cell_type": "code",
   "execution_count": 4,
   "metadata": {},
   "outputs": [],
   "source": [
    "class chazhi(pow_2,pow_3):\n",
    "    def __init__(self):\n",
    "        pow_2.__init__(self)\n",
    "        pow_3.__init__(self)\n",
    "    def res(self):\n",
    "        self.hs1()\n",
    "        self.hs2()\n",
    "        z = self.x + self.y\n",
    "        print (z)"
   ]
  },
  {
   "cell_type": "code",
   "execution_count": 5,
   "metadata": {},
   "outputs": [
    {
     "name": "stdout",
     "output_type": "stream",
     "text": [
      "36\n"
     ]
    }
   ],
   "source": [
    "chazhi().res()"
   ]
  },
  {
   "cell_type": "code",
   "execution_count": null,
   "metadata": {},
   "outputs": [],
   "source": []
  },
  {
   "cell_type": "code",
   "execution_count": 14,
   "metadata": {},
   "outputs": [
    {
     "ename": "NameError",
     "evalue": "name 're' is not defined",
     "output_type": "error",
     "traceback": [
      "\u001b[1;31m---------------------------------------------------------------------------\u001b[0m",
      "\u001b[1;31mNameError\u001b[0m                                 Traceback (most recent call last)",
      "\u001b[1;32m<ipython-input-14-210e86bd7d26>\u001b[0m in \u001b[0;36m<module>\u001b[1;34m()\u001b[0m\n\u001b[0;32m      4\u001b[0m \u001b[0mresponse\u001b[0m\u001b[1;33m.\u001b[0m\u001b[0mencodingdind\u001b[0m \u001b[1;33m=\u001b[0m \u001b[1;34m'utf-8'\u001b[0m\u001b[1;33m\u001b[0m\u001b[0m\n\u001b[0;32m      5\u001b[0m \u001b[0mhtml\u001b[0m \u001b[1;33m=\u001b[0m \u001b[0mresponse\u001b[0m\u001b[1;33m.\u001b[0m\u001b[0mtext\u001b[0m\u001b[1;33m\u001b[0m\u001b[0m\n\u001b[1;32m----> 6\u001b[1;33m \u001b[0mre\u001b[0m\u001b[1;33m.\u001b[0m\u001b[0msearch\u001b[0m\u001b[1;33m(\u001b[0m\u001b[1;34m''\u001b[0m\u001b[1;33m,\u001b[0m\u001b[0mhtml\u001b[0m\u001b[1;33m)\u001b[0m\u001b[1;33m\u001b[0m\u001b[0m\n\u001b[0m",
      "\u001b[1;31mNameError\u001b[0m: name 're' is not defined"
     ]
    }
   ],
   "source": [
    "import requests\n",
    "url = 'http://www.baidu.com'\n",
    "response = requests.get(url)\n",
    "response.encodingdind = 'utf-8'\n",
    "html = response.text\n",
    "re.search('',html)"
   ]
  },
  {
   "cell_type": "markdown",
   "metadata": {},
   "source": [
    "# Homewor\n",
    "## UML类图可以不用画\n",
    "## UML 实际上就是一个思维图\n",
    "- 1\n",
    "![](./Photo/91.png)"
   ]
  },
  {
   "cell_type": "code",
   "execution_count": 30,
   "metadata": {},
   "outputs": [],
   "source": [
    "class Rectangle:\n",
    "    def __init__(self,width,height):\n",
    "        self.width = width\n",
    "        self.height = height\n",
    "        self.area = None\n",
    "        self.ground = None\n",
    "    def getArea(self):\n",
    "        self.area = self.width * self.height\n",
    "        print(self.area)\n",
    "    def getPerimter(self):\n",
    "        self.ground = self.width + self.width + self.height + self.height\n",
    "        print(self.ground)"
   ]
  },
  {
   "cell_type": "code",
   "execution_count": 32,
   "metadata": {},
   "outputs": [
    {
     "name": "stdout",
     "output_type": "stream",
     "text": [
      "2\n",
      "6\n"
     ]
    }
   ],
   "source": [
    "J = Rectangle(1,2)\n",
    "J.getArea()\n",
    "J.getPerimter()"
   ]
  },
  {
   "cell_type": "code",
   "execution_count": 40,
   "metadata": {},
   "outputs": [],
   "source": [
    "class Rectangle_:\n",
    "    def __init__(self,kuan,gao):\n",
    "        self.kuan=kuan\n",
    "        self.gao=gao\n",
    "    def showbian(self):\n",
    "        print(self.kuan)\n",
    "        print(self.gao)"
   ]
  },
  {
   "cell_type": "code",
   "execution_count": 43,
   "metadata": {},
   "outputs": [
    {
     "name": "stdout",
     "output_type": "stream",
     "text": [
      "4\n",
      "40\n",
      "3.5\n",
      "35.7\n"
     ]
    }
   ],
   "source": [
    "A1 = Rectangle_(4,40)\n",
    "A1.showbian()\n",
    "\n",
    "A2 = Rectangle_(3.5,35.7)\n",
    "A2.showbian()"
   ]
  },
  {
   "cell_type": "markdown",
   "metadata": {},
   "source": [
    "- 2\n",
    "![](./Photo/92.png)"
   ]
  },
  {
   "cell_type": "code",
   "execution_count": 5,
   "metadata": {},
   "outputs": [],
   "source": [
    "class Account():\n",
    "    def __init__(self, id = 0, balance = 100, annualinterestRate = 0):\n",
    "        self.__id = id\n",
    "        self.__balance = balance\n",
    "        self.__annualinterestRate = annualinterestRate\n",
    "    def getId(self):\n",
    "        return self.__id\n",
    "    def changeId(self, id):\n",
    "        self.__id = id\n",
    "    def getBalance(self):\n",
    "        return self.__balance\n",
    "    def changeBalance(self, balance):\n",
    "        self.__balance = balance\n",
    "    def getBalance(self):\n",
    "        return self.__balance\n",
    "    def changeAnnualinterestRate(self, annualinterestRate):\n",
    "        self.__annualinterestRate = annualinterestRate    \n",
    "    def getMonthlyInterestRate(self):\n",
    "        return self.__annualinterestRate / 1200\n",
    "    def getMonthlyInterest(self):\n",
    "        monthlyInterestRate = self.getMonthlyInterestRate()\n",
    "        return self.__balance * monthlyInterestRate\n",
    "    def withdraw(self, amount):\n",
    "        self.__balance -= amount\n",
    "    def deposit(self, deamount):\n",
    "        self.__balance += deamount"
   ]
  },
  {
   "cell_type": "code",
   "execution_count": 6,
   "metadata": {},
   "outputs": [
    {
     "name": "stdout",
     "output_type": "stream",
     "text": [
      "The ID is  1122\n",
      "The balance is  20500\n",
      "The MonthlyInterestRate is  0.00375\n",
      "The MonthlyInterest is  76.875\n"
     ]
    }
   ],
   "source": [
    "account = Account(1122, 20000, 4.5)\n",
    "account.withdraw(2500)\n",
    "account.deposit(3000)\n",
    "print('The ID is ', account.getId())\n",
    "print('The balance is ', account.getBalance())\n",
    "print('The MonthlyInterestRate is ', account.getMonthlyInterestRate())\n",
    "print('The MonthlyInterest is ', account.getMonthlyInterest())"
   ]
  },
  {
   "cell_type": "markdown",
   "metadata": {},
   "source": [
    "- 3\n",
    "![](./Photo/93.png)"
   ]
  },
  {
   "cell_type": "code",
   "execution_count": null,
   "metadata": {},
   "outputs": [],
   "source": []
  },
  {
   "cell_type": "markdown",
   "metadata": {},
   "source": [
    "- 4\n",
    "![](./Photo/94.png)\n",
    "![](./Photo/95.png)"
   ]
  },
  {
   "cell_type": "code",
   "execution_count": 4,
   "metadata": {},
   "outputs": [],
   "source": [
    "# class RegularPolygon():\n",
    "#     import math\n",
    "#     def __init__(self, n=3, side=1, x=0, y=0):\n",
    "#         self.__n = n\n",
    "#         self.__side = side\n",
    "#         self.x = x\n",
    "#         self.y = y\n",
    "#     def getN(self):\n",
    "#         return self.__n\n",
    "#     def getSide(self):\n",
    "#         return self.__side\n",
    "#     def getX(self):\n",
    "#         return self.__x\n",
    "#     def getY(self):\n",
    "#         return self.__y\n",
    "#     def setN(self, n):\n",
    "#         self.__n = n\n",
    "#     def setSide(self, side):\n",
    "#         self.__side = side\n",
    "#     def setX(self, x):\n",
    "#         self.__x = x\n",
    "#     def setY(self, y):\n",
    "#         self.__y = y\n",
    "#     def getPerimeter(self):\n",
    "#         return self.__n * self.__side\n",
    "#     def getArea(self):\n",
    "#         area = self.__n * (self.__side ** 2) / (4 * math.tan(math.pi/self.__n))\n",
    "#         return area"
   ]
  },
  {
   "cell_type": "code",
   "execution_count": 4,
   "metadata": {},
   "outputs": [
    {
     "name": "stdout",
     "output_type": "stream",
     "text": [
      "边长为1的正3边形的周长为3.00，面积为0.43\n",
      "边长为4的正6边形的周长为24.00，面积为41.57\n",
      "边长为4的正10边形的周长为40.00，面积为123.11\n"
     ]
    }
   ],
   "source": [
    "# regu1 = RegularPolygon()\n",
    "# regu2 = RegularPolygon(6, 4)\n",
    "# regu3 = RegularPolygon(10, 4, 5.6, 7.8)\n",
    "# print('边长为%d的正%d边形的周长为%.2f，面积为%.2f' \\\n",
    "#       %(regu1.getSide(), regu1.getN(), regu1.getPerimeter(), regu1.getArea()))\n",
    "# print('边长为%d的正%d边形的周长为%.2f，面积为%.2f' \\\n",
    "#       %(regu2.getSide(), regu2.getN(), regu2.getPerimeter(), regu2.getArea()))\n",
    "# print('边长为%d的正%d边形的周长为%.2f，面积为%.2f' \\\n",
    "#       %(regu3.getSide(), regu3.getN(), regu3.getPerimeter(), regu3.getArea()))"
   ]
  },
  {
   "cell_type": "markdown",
   "metadata": {},
   "source": [
    "- 5\n",
    "![](./Photo/96.png)"
   ]
  },
  {
   "cell_type": "code",
   "execution_count": 10,
   "metadata": {},
   "outputs": [],
   "source": [
    "class LinearEquation():\n",
    "    def __init__(self, a, b, c, d, e, f):\n",
    "        self.__a = a\n",
    "        self.__b = b\n",
    "        self.__c = c\n",
    "        self.__d = d\n",
    "        self.__e = e\n",
    "        self.__f = f\n",
    "    def getA(self):\n",
    "        return self.__a\n",
    "    def getB(self):\n",
    "        return self.__b\n",
    "    def getC(self):\n",
    "        return self.__c\n",
    "    def getD(self):\n",
    "        return self.__d\n",
    "    def getE(self):\n",
    "        return self.__e\n",
    "    def getF(self):\n",
    "        return self.__f\n",
    "    def isSolvable(self):\n",
    "        if self.__a * self.__d - self.__b * self.__c != 0:\n",
    "            return True\n",
    "        else:\n",
    "            return False\n",
    "    def getX(self):\n",
    "        return (self.__e*self.__d - self.__b*self.__f)/(self.__a * self.__d - self.__b * self.__c)\n",
    "    def getY(self):\n",
    "        return (self.__a*self.__f - self.__e*self.__c)/(self.__a * self.__d - self.__b * self.__c)\n"
   ]
  },
  {
   "cell_type": "code",
   "execution_count": 10,
   "metadata": {},
   "outputs": [
    {
     "name": "stdout",
     "output_type": "stream",
     "text": [
      "Enter a:1\n",
      "Enter b:2\n",
      "Enter c:3\n",
      "Enter d:4\n",
      "Enter e:5\n",
      "Enter f:4\n",
      "X = -6.00, Y = 5.50\n"
     ]
    }
   ],
   "source": [
    "def main():\n",
    "    a = eval(input('Enter a:'))\n",
    "    b = eval(input('Enter b:'))\n",
    "    c = eval(input('Enter c:'))\n",
    "    d = eval(input('Enter d:'))\n",
    "    e = eval(input('Enter e:'))\n",
    "    f = eval(input('Enter f:'))\n",
    "    equation = LinearEquation(a, b, c, d, e, f)\n",
    "    if equation.isSolvable() == True:\n",
    "        print('X = %.2f, Y = %.2f' %(equation.getX(), equation.getY()))\n",
    "    else:\n",
    "        print('这个方程无解')\n",
    "main()"
   ]
  },
  {
   "cell_type": "markdown",
   "metadata": {},
   "source": [
    "- 6\n",
    "![](./Photo/97.png)"
   ]
  },
  {
   "cell_type": "code",
   "execution_count": 13,
   "metadata": {},
   "outputs": [],
   "source": [
    "# class Equation():\n",
    "#     def __init__(self, x1, y1, x2, y3):\n",
    "#         self.x1 = x1\n",
    "#         self.y1 = y1\n",
    "#         self.x2 = x2\n",
    "#         self.y2 = y2\n",
    "#     def getEquation(self):\n",
    "#         a = self.y2 - self.y1\n",
    "#         b = -(self.x2 - self.x1)\n",
    "#         e = (self.y2-self.y1)*self.x1 - (self.x2-self.x1)*self.y1\n",
    "#         return a, b, e"
   ]
  },
  {
   "cell_type": "code",
   "execution_count": 15,
   "metadata": {},
   "outputs": [
    {
     "name": "stdout",
     "output_type": "stream",
     "text": [
      "输入第一条线段的两个端点:1,2,3,4\n",
      "输入第二条线段的两个端点:2,1,3,4\n",
      "X = 3.00, Y = 4.00\n"
     ]
    }
   ],
   "source": [
    "# x1, y1, x2, y2= eval(input('输入第一条线段的两个端点:'))\n",
    "# x3, y3, x4, y4= eval(input('输入第二条线段的两个端点:'))\n",
    "# Equ1 = Equation(x1, y1, x2, y2)\n",
    "# Equ2 = Equation(x3, y3, x4, y4)\n",
    "# a, b, e = Equ1.getEquation()\n",
    "# c, d, f = Equ2.getEquation()\n",
    "# equation = LinearEquation(a, b, c, d, e, f)\n",
    "# if equation.isSolvable() == True:\n",
    "#     print('X = %.2f, Y = %.2f' %(equation.getX(), equation.getY()))\n",
    "# else:\n",
    "#     print('这个方程无解')"
   ]
  },
  {
   "cell_type": "markdown",
   "metadata": {},
   "source": [
    "- 7\n",
    "![](./Photo/98.png)"
   ]
  },
  {
   "cell_type": "code",
   "execution_count": 2,
   "metadata": {},
   "outputs": [],
   "source": [
    "import random\n",
    "class father1():\n",
    "    def __init__(self):\n",
    "        self.Random = None\n",
    "    def create_num(self):\n",
    "        self.Random = random.randint(0, 100)\n",
    "        return self.Random\n",
    "class Son1(father1):\n",
    "    def __init__(self):\n",
    "        father1.__init__(self)\n",
    "    def result(self):\n",
    "        for i in range(10):\n",
    "            res_num = self.create_num()\n",
    "            if res_num % 2 == 0:\n",
    "                print('%d 是偶数' %self.Random)\n",
    "            else:\n",
    "                print('%d 是奇数' %self.Random)"
   ]
  },
  {
   "cell_type": "code",
   "execution_count": 3,
   "metadata": {},
   "outputs": [
    {
     "name": "stdout",
     "output_type": "stream",
     "text": [
      "37 是奇数\n",
      "9 是奇数\n",
      "78 是偶数\n",
      "67 是奇数\n",
      "30 是偶数\n",
      "57 是奇数\n",
      "98 是偶数\n",
      "37 是奇数\n",
      "51 是奇数\n",
      "33 是奇数\n"
     ]
    }
   ],
   "source": [
    "Son1().result()"
   ]
  }
 ],
 "metadata": {
  "kernelspec": {
   "display_name": "Python 3",
   "language": "python",
   "name": "python3"
  },
  "language_info": {
   "codemirror_mode": {
    "name": "ipython",
    "version": 3
   },
   "file_extension": ".py",
   "mimetype": "text/x-python",
   "name": "python",
   "nbconvert_exporter": "python",
   "pygments_lexer": "ipython3",
   "version": "3.6.4"
  }
 },
 "nbformat": 4,
 "nbformat_minor": 2
}
