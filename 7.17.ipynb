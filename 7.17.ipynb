{
 "cells": [
  {
   "cell_type": "markdown",
   "metadata": {},
   "source": [
    "# 数学函数、字符串和对象\n",
    "## 本章介绍Python函数来执行常见的数学运算\n",
    "- 函数是完成一个特殊任务的一组语句，可以理解为一个函数相当于一个小功能，但是在开发中，需要注意一个函数的长度最好不要超过一屏\n",
    "- Python中的内置函数是不需要Import导入的\n",
    "<img src=\"./Photo/15.png\"></img>"
   ]
  },
  {
   "cell_type": "code",
   "execution_count": 2,
   "metadata": {},
   "outputs": [
    {
     "name": "stdout",
     "output_type": "stream",
     "text": [
      "输入5个数,以逗号分隔1,1,1,1,1\n",
      "请输入想要的操作：max,min,,mimax\n",
      "1\n"
     ]
    }
   ],
   "source": [
    "a,b,c,d,e = eval(input('输入5个数,以逗号分隔'))\n",
    "con = input('请输入想要的操作：max,min,,mi')\n",
    "if con == 'max':\n",
    "    print (max(a,b,c,d,e))\n",
    "elif con == 'min':\n",
    "    print (min(a,b,c,d,e))\n",
    "elif con == 'mi':\n",
    "    sum_=pow(a,2)+pow(b,2)+pow(c,2)+pow(d,2)+pow(e,2)\n",
    "    print (sum_)"
   ]
  },
  {
   "cell_type": "markdown",
   "metadata": {},
   "source": [
    "## 尝试练习Python内置函数"
   ]
  },
  {
   "cell_type": "markdown",
   "metadata": {},
   "source": [
    "## Python中的math模块提供了许多数学函数\n",
    "<img src=\"./Photo/16.png\"></img>\n",
    "<img src=\"./Photo/17.png\"></img>\n"
   ]
  },
  {
   "cell_type": "code",
   "execution_count": 9,
   "metadata": {},
   "outputs": [
    {
     "name": "stdout",
     "output_type": "stream",
     "text": [
      "1.0\n",
      "2\n",
      "-3\n",
      "7.38905609893065\n"
     ]
    }
   ],
   "source": [
    "import math\n",
    "print (math.fabs(1))\n",
    "print (math.ceil(1.3))\n",
    "print (math.floor(-2.1))\n",
    "print (math.exp(2))"
   ]
  },
  {
   "cell_type": "code",
   "execution_count": null,
   "metadata": {},
   "outputs": [],
   "source": [
    "import matplotlib.pyplot as plt\n",
    "list_=[]\n",
    "for z in range(-50,50):\n",
    "    res=1./ (1. + math.exp(-z))\n",
    "    list_.append(res)\n",
    "plt.plot(list_)\n",
    "plt.show()"
   ]
  },
  {
   "cell_type": "code",
   "execution_count": null,
   "metadata": {},
   "outputs": [],
   "source": [
    "import random\n",
    "#num = random.randint(0,3)  产生0-3之间的整数\n",
    "num = random.random()\n",
    "print (num)\n",
    "if num < 0.5:\n",
    "    print ('猫')\n",
    "else:\n",
    "    print ('狗')"
   ]
  },
  {
   "cell_type": "code",
   "execution_count": 119,
   "metadata": {},
   "outputs": [
    {
     "name": "stdout",
     "output_type": "stream",
     "text": [
      "2.0\n",
      "1.5707963267948966\n"
     ]
    }
   ],
   "source": [
    "import math\n",
    "print (math.log(4,2))\n",
    "print (math.radians(90))"
   ]
  },
  {
   "cell_type": "code",
   "execution_count": null,
   "metadata": {},
   "outputs": [],
   "source": []
  },
  {
   "cell_type": "markdown",
   "metadata": {},
   "source": [
    "## 两个数学常量PI和e，可以通过使用math.pi 和math.e调用"
   ]
  },
  {
   "cell_type": "markdown",
   "metadata": {},
   "source": [
    "## EP:\n",
    "- 通过math库，写一个程序，使得用户输入三个顶点(x,y)返回三个角度\n",
    "- 注意：Python计算角度为弧度制，需要将其转换为角度\n",
    "<img src=\"./Photo/18.png\">"
   ]
  },
  {
   "cell_type": "code",
   "execution_count": 15,
   "metadata": {},
   "outputs": [
    {
     "name": "stdout",
     "output_type": "stream",
     "text": [
      "输入坐标x1,y1\n",
      "1,0\n",
      "输入坐标x2,y2\n",
      "0,1\n",
      "输入坐标x3,y3\n",
      "0,0\n",
      "45 45 90\n"
     ]
    }
   ],
   "source": [
    "import math\n",
    "x1,y1 = eval(input('输入坐标x1,y1\\n'))\n",
    "x2,y2 = eval(input('输入坐标x2,y2\\n'))\n",
    "x3,y3 = eval(input('输入坐标x3,y3\\n'))\n",
    "a = math.sqrt((y3 - y2)**2 + (x3 - x2)**2)\n",
    "b = math.sqrt((y3 - y1)**2 + (x3 - x1)**2)\n",
    "c = math.sqrt((y2 - y1)**2 + (x2 - x1)**2)\n",
    "A = math.acos((a * a - b * b - c * c) / (-2 * b * c))\n",
    "B = math.acos((b * b - a * a - c * c) / (-2 * a * c))\n",
    "C = math.acos((c * c - b * b - a * a) / (-2 * a * b))\n",
    "print (round(math.degrees(A)),round(math.degrees(B)),round(math.degrees(C)))"
   ]
  },
  {
   "cell_type": "code",
   "execution_count": 24,
   "metadata": {},
   "outputs": [
    {
     "name": "stdout",
     "output_type": "stream",
     "text": [
      "[[[1. 1. 1.]\n",
      "  [1. 1. 1.]\n",
      "  [1. 1. 1.]\n",
      "  ...\n",
      "  [1. 1. 1.]\n",
      "  [1. 1. 1.]\n",
      "  [1. 1. 1.]]\n",
      "\n",
      " [[1. 1. 1.]\n",
      "  [1. 1. 1.]\n",
      "  [1. 1. 1.]\n",
      "  ...\n",
      "  [1. 1. 1.]\n",
      "  [1. 1. 1.]\n",
      "  [1. 1. 1.]]\n",
      "\n",
      " [[1. 1. 1.]\n",
      "  [1. 1. 1.]\n",
      "  [1. 1. 1.]\n",
      "  ...\n",
      "  [1. 1. 1.]\n",
      "  [1. 1. 1.]\n",
      "  [1. 1. 1.]]\n",
      "\n",
      " ...\n",
      "\n",
      " [[1. 1. 1.]\n",
      "  [1. 1. 1.]\n",
      "  [1. 1. 1.]\n",
      "  ...\n",
      "  [1. 1. 1.]\n",
      "  [1. 1. 1.]\n",
      "  [1. 1. 1.]]\n",
      "\n",
      " [[1. 1. 1.]\n",
      "  [1. 1. 1.]\n",
      "  [1. 1. 1.]\n",
      "  ...\n",
      "  [1. 1. 1.]\n",
      "  [1. 1. 1.]\n",
      "  [1. 1. 1.]]\n",
      "\n",
      " [[1. 1. 1.]\n",
      "  [1. 1. 1.]\n",
      "  [1. 1. 1.]\n",
      "  ...\n",
      "  [1. 1. 1.]\n",
      "  [1. 1. 1.]\n",
      "  [1. 1. 1.]]]\n"
     ]
    },
    {
     "data": {
      "text/plain": [
       "<matplotlib.image.AxesImage at 0x1f707fc8be0>"
      ]
     },
     "execution_count": 24,
     "metadata": {},
     "output_type": "execute_result"
    },
    {
     "data": {
      "image/png": "[encoded data removed]",
      "text/plain": [
       "<matplotlib.figure.Figure at 0x1f707efb748>"
      ]
     },
     "metadata": {},
     "output_type": "display_data"
    }
   ],
   "source": [
    "import matplotlib.pyplot as plt\n",
    "image = plt.imread('/Users/lenovo/Desktop/1.png')  #图片查看\n",
    "print (image)\n",
    "plt.imshow(image/math.sin(90))"
   ]
  },
  {
   "cell_type": "markdown",
   "metadata": {},
   "source": [
    "## 字符串和字符\n",
    "- 在Python中，字符串必须是在单引号或者双引号内，在多段换行的字符串中可以使用“”“\n",
    "- 在使用”“”时，给予其变量则变为字符串，否则当多行注释使用"
   ]
  },
  {
   "cell_type": "markdown",
   "metadata": {},
   "source": [
    "## ASCII码与Unicode码\n",
    "- <img src=\"./Photo/19.png\"></img>\n",
    "- <img src=\"./Photo/20.png\"></img>\n",
    "- <img src=\"./Photo/21.png\"></img>"
   ]
  },
  {
   "cell_type": "markdown",
   "metadata": {},
   "source": [
    "## 函数ord、chr\n",
    "- ord 返回ASCII码值\n",
    "- chr 返回字符"
   ]
  },
  {
   "cell_type": "code",
   "execution_count": 6,
   "metadata": {},
   "outputs": [
    {
     "name": "stdout",
     "output_type": "stream",
     "text": [
      "98\n",
      "c\n"
     ]
    }
   ],
   "source": [
    "print (ord('b'))\n",
    "print (chr(99))"
   ]
  },
  {
   "cell_type": "code",
   "execution_count": 17,
   "metadata": {},
   "outputs": [
    {
     "name": "stdout",
     "output_type": "stream",
     "text": [
      "23433\n",
      "安\n"
     ]
    }
   ],
   "source": [
    "print (ord('安'))\n",
    "print (chr(23433))"
   ]
  },
  {
   "cell_type": "markdown",
   "metadata": {},
   "source": [
    "## EP:\n",
    "- 利用ord与chr进行简单邮箱加密"
   ]
  },
  {
   "cell_type": "code",
   "execution_count": 24,
   "metadata": {},
   "outputs": [
    {
     "name": "stdout",
     "output_type": "stream",
     "text": [
      "998455924Bss0eqo\n"
     ]
    }
   ],
   "source": [
    "string_  = '776233702@qq.com'\n",
    "result = ''\n",
    "for i in string_:\n",
    "    result = result + chr(ord(i)+2)\n",
    "print(result)"
   ]
  },
  {
   "cell_type": "code",
   "execution_count": 36,
   "metadata": {},
   "outputs": [
    {
     "name": "stdout",
     "output_type": "stream",
     "text": [
      "MD5加密前：123456\n",
      "MD5加密后：e10adc3949ba59abbe56e057f20f883e\n"
     ]
    }
   ],
   "source": [
    "import hashlib\n",
    "string = '123456'\n",
    "hl = hashlib.md5()\n",
    "hl.update(string.encode(encoding='utf-8'))\n",
    "print ('MD5加密前：'+ string)\n",
    "print ('MD5加密后：'+ hl.hexdigest())"
   ]
  },
  {
   "cell_type": "code",
   "execution_count": 48,
   "metadata": {},
   "outputs": [
    {
     "name": "stdout",
     "output_type": "stream",
     "text": [
      "请输入密码>>123456\n",
      "登录成功\n"
     ]
    }
   ],
   "source": [
    "pwd = input('请输入密码'+'>>')\n",
    "datebase = 'e10adc3949ba59abbe56e057f20f883e'\n",
    "hl = hashlib.md5()\n",
    "hl.update(pwd.encode(encoding='utf-8'))\n",
    "if hl.hexdigest() == datebase:\n",
    "    print ('登录成功')\n",
    "else:\n",
    "    print ('登录失败')"
   ]
  },
  {
   "cell_type": "markdown",
   "metadata": {},
   "source": [
    "## 转义序列 \\\n",
    "- a = \"He said,\"Johon's program is easy to read\"\n",
    "- 转掉它原来的意思\n",
    "- 一般情况下只有当语句与默认方法相撞的时候，就需要转义"
   ]
  },
  {
   "cell_type": "markdown",
   "metadata": {},
   "source": [
    "## 高级print\n",
    "- 参数 end： 以什么方式结束打印\n",
    "- 默认换行打印"
   ]
  },
  {
   "cell_type": "code",
   "execution_count": 39,
   "metadata": {},
   "outputs": [
    {
     "name": "stdout",
     "output_type": "stream",
     "text": [
      "ab!"
     ]
    }
   ],
   "source": [
    "print('a','b',sep='',end='!')"
   ]
  },
  {
   "cell_type": "markdown",
   "metadata": {},
   "source": [
    "## 函数str\n",
    "- 将类型强制转换成字符串类型\n",
    "- 其他一些以后会学到(list,set,tuple...)"
   ]
  },
  {
   "cell_type": "markdown",
   "metadata": {},
   "source": [
    "## 字符串连接操作\n",
    "- 直接使用 “+” \n",
    "- join() 函数 "
   ]
  },
  {
   "cell_type": "code",
   "execution_count": 50,
   "metadata": {},
   "outputs": [
    {
     "data": {
      "text/plain": [
       "'1!2!3'"
      ]
     },
     "execution_count": 50,
     "metadata": {},
     "output_type": "execute_result"
    }
   ],
   "source": [
    "'!'.join('123')\n",
    "#只有字符串才能使用join进行拼接"
   ]
  },
  {
   "cell_type": "code",
   "execution_count": 54,
   "metadata": {},
   "outputs": [
    {
     "name": "stdout",
     "output_type": "stream",
     "text": [
      "Wall time: 0 ns\n"
     ]
    },
    {
     "data": {
      "text/plain": [
       "'1!2!3!4'"
      ]
     },
     "execution_count": 54,
     "metadata": {},
     "output_type": "execute_result"
    }
   ],
   "source": [
    "%time '!'.join(['1','2','3','4'])"
   ]
  },
  {
   "cell_type": "code",
   "execution_count": 55,
   "metadata": {},
   "outputs": [
    {
     "name": "stdout",
     "output_type": "stream",
     "text": [
      "Wall time: 0 ns\n"
     ]
    },
    {
     "data": {
      "text/plain": [
       "'1!2!3!4'"
      ]
     },
     "execution_count": 55,
     "metadata": {},
     "output_type": "execute_result"
    }
   ],
   "source": [
    "%time '1' + '!' + '2' + '!' + '3' + '!' + '4'"
   ]
  },
  {
   "cell_type": "markdown",
   "metadata": {},
   "source": [
    "## EP：\n",
    "- 将 “Welcome” “to” \"Python\" 拼接\n",
    "- 将int型 100 与 “joker is a bad man” 拼接\n",
    "- 从控制台读取字符串\n",
    "> 输入一个名字返回夸奖此人"
   ]
  },
  {
   "cell_type": "code",
   "execution_count": 51,
   "metadata": {},
   "outputs": [
    {
     "name": "stdout",
     "output_type": "stream",
     "text": [
      "WelcomePython\n"
     ]
    }
   ],
   "source": [
    "str1 = 'Welcome'\n",
    "str2 = 'Python'\n",
    "print (str1+str2)"
   ]
  },
  {
   "cell_type": "code",
   "execution_count": 52,
   "metadata": {},
   "outputs": [
    {
     "name": "stdout",
     "output_type": "stream",
     "text": [
      "100joker is a bad man\n"
     ]
    }
   ],
   "source": [
    "num = 100\n",
    "str1 = 'joker is a bad man'\n",
    "print (str(num)+str1)"
   ]
  },
  {
   "cell_type": "code",
   "execution_count": 56,
   "metadata": {},
   "outputs": [
    {
     "name": "stdout",
     "output_type": "stream",
     "text": [
      "请输入名字>>王锴\n",
      "王锴是一条好二哈\n"
     ]
    }
   ],
   "source": [
    "name = input('请输入名字'+ '>>')\n",
    "print (name + '是一条好二哈')"
   ]
  },
  {
   "cell_type": "markdown",
   "metadata": {},
   "source": [
    "## 实例研究：最小数量硬币\n",
    "- 开发一个程序，让用户输入总金额，这是一个用美元和美分表示的浮点值，返回一个由美元、两角五分的硬币、一角的硬币、五分硬币、以及美分个数\n",
    "<img src=\"./Photo/22.png\"></img>"
   ]
  },
  {
   "cell_type": "markdown",
   "metadata": {},
   "source": [
    "- Python弱项，对于浮点型的处理并不是很好，但是处理数据的时候使用的是Numpy类型\n",
    "<img src=\"./Photo/23.png\"></img>"
   ]
  },
  {
   "cell_type": "markdown",
   "metadata": {},
   "source": [
    "## id与type\n",
    "- id 查看内存地址，在判断语句中将会使用\n",
    "- type 查看元素类型"
   ]
  },
  {
   "cell_type": "code",
   "execution_count": 58,
   "metadata": {},
   "outputs": [
    {
     "data": {
      "text/plain": [
       "bool"
      ]
     },
     "execution_count": 58,
     "metadata": {},
     "output_type": "execute_result"
    }
   ],
   "source": [
    "type(True)"
   ]
  },
  {
   "cell_type": "code",
   "execution_count": 97,
   "metadata": {
    "scrolled": true
   },
   "outputs": [
    {
     "name": "stdout",
     "output_type": "stream",
     "text": [
      "1560636896 1560636896 1960202899952 1960202900336\n"
     ]
    }
   ],
   "source": [
    "a = 1\n",
    "b = 1\n",
    "c = 257\n",
    "d = 257\n",
    "print (id(a),id(b),id(c),id(d))"
   ]
  },
  {
   "cell_type": "code",
   "execution_count": 96,
   "metadata": {},
   "outputs": [
    {
     "data": {
      "text/plain": [
       "1560645056"
      ]
     },
     "execution_count": 96,
     "metadata": {},
     "output_type": "execute_result"
    }
   ],
   "source": []
  },
  {
   "cell_type": "markdown",
   "metadata": {},
   "source": [
    "## 其他格式化语句见书"
   ]
  },
  {
   "cell_type": "markdown",
   "metadata": {},
   "source": [
    "# Homework\n",
    "- 1\n",
    "<img src=\"./Photo/24.png\"><img>\n",
    "<img src=\"./Photo/25.png\"><img>"
   ]
  },
  {
   "cell_type": "code",
   "execution_count": 101,
   "metadata": {},
   "outputs": [
    {
     "name": "stdout",
     "output_type": "stream",
     "text": [
      "请输入五边形顶点到中心的距离5.5\n",
      "71.92\n"
     ]
    }
   ],
   "source": [
    "import math\n",
    "r = eval(input('请输入五边形顶点到中心的距离'))\n",
    "s = 2 * r * math.sin(math.pi/5)\n",
    "Area = 5 * s * s / (4 * math.tan(math.pi/5))\n",
    "print (round((Area),2))"
   ]
  },
  {
   "cell_type": "markdown",
   "metadata": {},
   "source": [
    "- 2\n",
    "<img src=\"./Photo/26.png\"><img>"
   ]
  },
  {
   "cell_type": "code",
   "execution_count": 5,
   "metadata": {},
   "outputs": [
    {
     "name": "stdout",
     "output_type": "stream",
     "text": [
      "请输入第一个点的横纵坐标：39.55,-116.25\n",
      "请输入第二个点的横纵坐标：41.5,87.37\n",
      "两点之间的距离是10691.79183231593千米\n"
     ]
    }
   ],
   "source": [
    "import math\n",
    "x1,y1 = eval(input('请输入第一个点的横纵坐标：'))\n",
    "x2,y2 = eval(input('请输入第二个点的横纵坐标：'))\n",
    "d = 6371.01 * math.acos(math.sin(math.radians(x1)) * math.sin(math.radians(x2)) + math.cos(math.radians(x1)) * math.cos(math.radians(x2)) * math.cos(math.radians(y1-y2)))\n",
    "print ('两点之间的距离是'+str(d)+'千米')"
   ]
  },
  {
   "cell_type": "markdown",
   "metadata": {},
   "source": [
    "- 3\n",
    "<img src=\"./Photo/27.png\"><img>"
   ]
  },
  {
   "cell_type": "code",
   "execution_count": 1,
   "metadata": {},
   "outputs": [
    {
     "name": "stdout",
     "output_type": "stream",
     "text": [
      "请输入五角形的边长：5.5\n",
      "52.044441367816255\n"
     ]
    }
   ],
   "source": [
    "import math\n",
    "s = eval(input('请输入五角形的边长：'))\n",
    "Area = 5 * s * s / (4 * math.tan(math.pi / 5))\n",
    "print (Area)"
   ]
  },
  {
   "cell_type": "markdown",
   "metadata": {},
   "source": [
    "- 4\n",
    "<img src=\"./Photo/28.png\"><img>"
   ]
  },
  {
   "cell_type": "code",
   "execution_count": 7,
   "metadata": {},
   "outputs": [
    {
     "name": "stdout",
     "output_type": "stream",
     "text": [
      "请输入边数:5\n",
      "请输入边长:6.5\n",
      "边长为6.5的5边形的面积是72.69017017488386\n"
     ]
    }
   ],
   "source": [
    "import math\n",
    "n = int(input('请输入边数:'))\n",
    "s = eval(input('请输入边长:'))\n",
    "Area = n * s * s / (4 * math.tan(math.pi / n))\n",
    "print ('边长为'+str(s)+'的'+str(n)+ '边形的面积是' + str(Area))"
   ]
  },
  {
   "cell_type": "markdown",
   "metadata": {},
   "source": [
    "- 5\n",
    "<img src=\"./Photo/29.png\"><img>\n",
    "<img src=\"./Photo/30.png\"><img>"
   ]
  },
  {
   "cell_type": "code",
   "execution_count": 8,
   "metadata": {},
   "outputs": [
    {
     "name": "stdout",
     "output_type": "stream",
     "text": [
      "请输入ASCII码值（0~127）69\n"
     ]
    },
    {
     "data": {
      "text/plain": [
       "'E'"
      ]
     },
     "execution_count": 8,
     "metadata": {},
     "output_type": "execute_result"
    }
   ],
   "source": [
    "num = int(input('请输入ASCII码值（0~127）'))\n",
    "chr(num)"
   ]
  },
  {
   "cell_type": "markdown",
   "metadata": {},
   "source": [
    "- 6\n",
    "<img src=\"./Photo/31.png\"><img>"
   ]
  },
  {
   "cell_type": "code",
   "execution_count": 20,
   "metadata": {},
   "outputs": [
    {
     "name": "stdout",
     "output_type": "stream",
     "text": [
      "请输入姓名ajr\n",
      "请输入一周的工作时间10\n",
      "请输入每小时的报酬9.75\n",
      "请输入联邦预扣税0.20\n",
      "请输入州预扣税0.09\n",
      "姓名:ajr\n",
      "每周工作时间10\n",
      "每小时工资:9.75\n",
      "共计:97.5\n",
      "纳税：\n",
      "  联邦税:1.9500000000000002\n",
      "  州税:0.8775\n",
      "共计纳税:2.8275\n",
      "实付工资:94.6725\n"
     ]
    }
   ],
   "source": [
    "name = input('请输入姓名')\n",
    "time = eval(input('请输入一周的工作时间'))\n",
    "money = eval(input('请输入每小时的报酬'))\n",
    "bangshui = eval(input('请输入联邦预扣税'))\n",
    "zhoushui= eval(input('请输入州预扣税'))\n",
    "bangMoney = money * bangshui\n",
    "zhouMoney = money * zhoushui\n",
    "totalShui = bangMoney + zhouMoney\n",
    "totalMoney = money * time\n",
    "finalMoney = time * money - bangMoney - zhouMoney\n",
    "print ('姓名:'+name+'\\n'+'每周工作时间'+str(time)+'\\n'+'每小时工资:'+str(money)+'\\n'+'共计:'+str(totalMoney))\n",
    "print ('纳税：'+'\\n'+'  联邦税:'+str(bangMoney)+'\\n'+'  州税:'+str(zhouMoney)+'\\n'+'共计纳税:'+str(totalShui)+'\\n'+'实付工资:'+str(finalMoney))"
   ]
  },
  {
   "cell_type": "markdown",
   "metadata": {},
   "source": [
    "- 7\n",
    "<img src=\"./Photo/32.png\"><img>"
   ]
  },
  {
   "cell_type": "code",
   "execution_count": 32,
   "metadata": {},
   "outputs": [
    {
     "name": "stdout",
     "output_type": "stream",
     "text": [
      "输入一个四位整数：1234\n",
      "4321"
     ]
    }
   ],
   "source": [
    "num = int(input('输入一个四位整数：'))\n",
    "i=0\n",
    "while i<4:\n",
    "    x = num%10\n",
    "    num = num // 10\n",
    "    i = i+1\n",
    "    print (x,end='')"
   ]
  },
  {
   "cell_type": "markdown",
   "metadata": {},
   "source": [
    "- 8 进阶：\n",
    "> 加密一串文本，并将解密后的文件写入本地保存"
   ]
  },
  {
   "cell_type": "code",
   "execution_count": 31,
   "metadata": {},
   "outputs": [
    {
     "name": "stdout",
     "output_type": "stream",
     "text": [
      "加密数据：e10adc3949ba59abbe56e057f20f883e已保存\n"
     ]
    }
   ],
   "source": [
    "import hashlib\n",
    "string = '123456'\n",
    "hl = hashlib.md5()\n",
    "hl.update(string.encode(encoding='utf-8'))\n",
    "print ('加密数据：'+hl.hexdigest()+'已保存')"
   ]
  }
 ],
 "metadata": {
  "kernelspec": {
   "display_name": "Python 3",
   "language": "python",
   "name": "python3"
  },
  "language_info": {
   "codemirror_mode": {
    "name": "ipython",
    "version": 3
   },
   "file_extension": ".py",
   "mimetype": "text/x-python",
   "name": "python",
   "nbconvert_exporter": "python",
   "pygments_lexer": "ipython3",
   "version": "3.6.4"
  }
 },
 "nbformat": 4,
 "nbformat_minor": 2
}
