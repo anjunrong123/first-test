{
 "cells": [
  {
   "cell_type": "markdown",
   "metadata": {},
   "source": [
    "# 循环\n",
    "- 循环是一种控制语句块重复执行的结构\n",
    "- while  适用于广度遍历\n",
    "- for    开发中经常使用"
   ]
  },
  {
   "cell_type": "markdown",
   "metadata": {},
   "source": [
    "## while 循环\n",
    "- 当一个条件保持真的时候while循环重复执行语句\n",
    "- while 循环一定要有结束条件，否则很容易进入死循环\n",
    "- while 循环的语法是：\n",
    "\n",
    "    while loop-contunuation-conndition:\n",
    "\n",
    "        Statement"
   ]
  },
  {
   "cell_type": "markdown",
   "metadata": {},
   "source": [
    "## 示例：\n",
    "sum = 0\n",
    "\n",
    "i = 1\n",
    "\n",
    "while i <10:\n",
    "\n",
    "    sum = sum + i\n",
    "    i = i + 1"
   ]
  },
  {
   "cell_type": "markdown",
   "metadata": {},
   "source": [
    "## 错误示例：\n",
    "sum = 0\n",
    "\n",
    "i = 1\n",
    "\n",
    "while i <10:\n",
    "\n",
    "    sum = sum + i\n",
    "\n",
    "i = i + 1\n",
    "- 一旦进入死循环可按 Ctrl + c 停止"
   ]
  },
  {
   "cell_type": "markdown",
   "metadata": {},
   "source": [
    "## EP：\n",
    "![](../Photo/143.png)\n",
    "![](../Photo/144.png)"
   ]
  },
  {
   "cell_type": "markdown",
   "metadata": {},
   "source": [
    "# 验证码\n",
    "- 随机产生四个字母的验证码，如果正确，输出验证码正确。如果错误，产生新的验证码，用户重新输入。\n",
    "- 验证码只能输入三次，如果三次都错，返回“别爬了，我们小网站没什么好爬的”\n",
    "- 密码登录，如果三次错误，账号被锁定\n"
   ]
  },
  {
   "cell_type": "code",
   "execution_count": 44,
   "metadata": {},
   "outputs": [
    {
     "name": "stdout",
     "output_type": "stream",
     "text": [
      "验证码是: 9789\n",
      ">>9789\n",
      "验证码正确\n"
     ]
    }
   ],
   "source": [
    "import random\n",
    "i = 0\n",
    "while i <3 :\n",
    "    yanzhengma = str(random.randint(1000,9999))\n",
    "    print('验证码是:',yanzhengma)\n",
    "    input_ = input('>>')\n",
    "    if yanzhengma == input_:\n",
    "        print('验证码正确')\n",
    "        break\n",
    "    else:\n",
    "        print('请再输入')\n",
    "        i +=1\n",
    "#     if i ==3:\n",
    "#         print('验证码次数超限')\n",
    "else:\n",
    "    print('验证码次数超限')"
   ]
  },
  {
   "cell_type": "code",
   "execution_count": 45,
   "metadata": {},
   "outputs": [
    {
     "name": "stdout",
     "output_type": "stream",
     "text": [
      "验证码是: jxqu\n",
      ">>jxqu\n",
      "验证码正确\n"
     ]
    }
   ],
   "source": [
    "import random\n",
    "i = 0\n",
    "while i <3 :\n",
    "    yanzhengma1 = chr(random.randint(97,122))\n",
    "    yanzhengma2 = chr(random.randint(97,122))\n",
    "    yanzhengma3 = chr(random.randint(97,122))\n",
    "    yanzhengma4 = chr(random.randint(97,122))\n",
    "    yanzhengma = yanzhengma1 + yanzhengma2+ yanzhengma3 + yanzhengma4\n",
    "    \n",
    "    print('验证码是:',yanzhengma)\n",
    "    input_ = input('>>')\n",
    "    if yanzhengma == input_:\n",
    "        print('验证码正确')\n",
    "        break\n",
    "    else:\n",
    "        print('请再输入')\n",
    "        i +=1\n",
    "#     if i ==3:\n",
    "#         print('验证码次数超限')\n",
    "else:\n",
    "    print('验证码次数超限')"
   ]
  },
  {
   "cell_type": "code",
   "execution_count": 1,
   "metadata": {},
   "outputs": [
    {
     "name": "stdout",
     "output_type": "stream",
     "text": [
      "验证码是: 1n5p\n",
      ">>2222\n",
      "请再输入\n",
      "验证码是: 3ay1\n",
      ">>\n",
      "请再输入\n",
      "验证码是: ef61\n",
      ">>222\n",
      "请再输入\n",
      "验证码次数超限\n"
     ]
    }
   ],
   "source": [
    "import random\n",
    "i = 0\n",
    "while i <3 :\n",
    "    list_ = ['1','2','3','4','5','6','7','8','9','0','q','w','e','r','t','y','u','i','o','p','a','s','d','f','g','h','j','k','l','z','x','c','v','n','m']\n",
    "    random.shuffle(list_)#将列表顺序随机打乱\n",
    "    yanzhengma = ''.join(list_[0:4])\n",
    "    print('验证码是:',yanzhengma)\n",
    "    input_ = input('>>')\n",
    "    \n",
    "    if yanzhengma == input_:\n",
    "        print('验证码正确')\n",
    "        break\n",
    "    else:\n",
    "        print('请再输入')\n",
    "        i +=1\n",
    "#     if i ==3:\n",
    "#         print('验证码次数超限')\n",
    "else:\n",
    "    print('验证码次数超限')\n"
   ]
  },
  {
   "cell_type": "markdown",
   "metadata": {},
   "source": [
    "## 尝试死循环"
   ]
  },
  {
   "cell_type": "markdown",
   "metadata": {},
   "source": [
    "## 实例研究：猜数字\n",
    "- 你将要编写一个能够随机生成一个0到10之间的且包括两者的数字程序，这个程序\n",
    "- 提示用户连续地输入数字直到正确，且提示用户输入的数字是过高还是过低"
   ]
  },
  {
   "cell_type": "markdown",
   "metadata": {},
   "source": [
    "## 使用哨兵值来控制循环\n",
    "- 哨兵值来表明输入的结束\n",
    "- ![](./Photo/54.png)"
   ]
  },
  {
   "cell_type": "markdown",
   "metadata": {},
   "source": [
    "## 警告\n",
    "![](./Photo/55.png)"
   ]
  },
  {
   "cell_type": "markdown",
   "metadata": {},
   "source": [
    "## for 循环\n",
    "- Python的for 循环通过一个序列中的每个值来进行迭代\n",
    "- range(a,b,k)， a，b，k 必须为整数\n",
    "- a: start\n",
    "- b: end\n",
    "- k: step\n",
    "- 注意for 是循环一切可迭代对象，而不是只能使用range"
   ]
  },
  {
   "cell_type": "code",
   "execution_count": 2,
   "metadata": {},
   "outputs": [
    {
     "name": "stdout",
     "output_type": "stream",
     "text": [
      "a\n",
      "b\n",
      "c\n",
      "d\n"
     ]
    }
   ],
   "source": [
    "for i in 'abcd':\n",
    "    print(i)\n",
    "for i in "
   ]
  },
  {
   "cell_type": "code",
   "execution_count": 1,
   "metadata": {},
   "outputs": [
    {
     "name": "stdout",
     "output_type": "stream",
     "text": [
      "0\n",
      "2\n",
      "4\n",
      "6\n",
      "8\n"
     ]
    }
   ],
   "source": [
    "for iterm in range(0,10,2):\n",
    "    print(iterm)"
   ]
  },
  {
   "cell_type": "code",
   "execution_count": 5,
   "metadata": {},
   "outputs": [
    {
     "name": "stdout",
     "output_type": "stream",
     "text": [
      "a\n",
      "b\n",
      "c\n",
      "d\n",
      "e\n",
      "f\n",
      "g\n"
     ]
    }
   ],
   "source": [
    "\n",
    "i = 0\n",
    "str_ = 'abcdefg'\n",
    "while i < 7:\n",
    "    print(str_[i])\n",
    "    i += 1"
   ]
  },
  {
   "cell_type": "markdown",
   "metadata": {},
   "source": [
    "# 在Python里面一切皆对象"
   ]
  },
  {
   "cell_type": "markdown",
   "metadata": {},
   "source": [
    "## EP:\n",
    "- ![](./Photo/145.png)"
   ]
  },
  {
   "cell_type": "code",
   "execution_count": 18,
   "metadata": {},
   "outputs": [
    {
     "name": "stdout",
     "output_type": "stream",
     "text": [
      "10011\n"
     ]
    }
   ],
   "source": [
    "sum_ = 0 \n",
    "for i in  range(0,10000):\n",
    "    sum_ = sum_ + i\n",
    "    if sum_ > 10000:\n",
    "        break\n",
    "print (sum_)"
   ]
  },
  {
   "cell_type": "markdown",
   "metadata": {},
   "source": [
    "## 嵌套循环\n",
    "- 一个循环可以嵌套另一个循环\n",
    "- 每次循环外层时，内层循环都会被刷新重新完成循环\n",
    "- 也就是说，大循环执行一次，小循环会全部执行一次\n",
    "- 注意：\n",
    "> - 多层循环非常耗时\n",
    "  - 最多使用3层循环"
   ]
  },
  {
   "cell_type": "code",
   "execution_count": 19,
   "metadata": {},
   "outputs": [
    {
     "name": "stdout",
     "output_type": "stream",
     "text": [
      "0 0\n",
      "0 1\n",
      "0 2\n",
      "0 3\n",
      "0 4\n",
      "0 5\n",
      "0 6\n",
      "0 7\n",
      "0 8\n",
      "0 9\n",
      "1 0\n",
      "1 1\n",
      "1 2\n",
      "1 3\n",
      "1 4\n",
      "1 5\n",
      "1 6\n",
      "1 7\n",
      "1 8\n",
      "1 9\n",
      "2 0\n",
      "2 1\n",
      "2 2\n",
      "2 3\n",
      "2 4\n",
      "2 5\n",
      "2 6\n",
      "2 7\n",
      "2 8\n",
      "2 9\n",
      "3 0\n",
      "3 1\n",
      "3 2\n",
      "3 3\n",
      "3 4\n",
      "3 5\n",
      "3 6\n",
      "3 7\n",
      "3 8\n",
      "3 9\n",
      "4 0\n",
      "4 1\n",
      "4 2\n",
      "4 3\n",
      "4 4\n",
      "4 5\n",
      "4 6\n",
      "4 7\n",
      "4 8\n",
      "4 9\n",
      "5 0\n",
      "5 1\n",
      "5 2\n",
      "5 3\n",
      "5 4\n",
      "5 5\n",
      "5 6\n",
      "5 7\n",
      "5 8\n",
      "5 9\n",
      "6 0\n",
      "6 1\n",
      "6 2\n",
      "6 3\n",
      "6 4\n",
      "6 5\n",
      "6 6\n",
      "6 7\n",
      "6 8\n",
      "6 9\n",
      "7 0\n",
      "7 1\n",
      "7 2\n",
      "7 3\n",
      "7 4\n",
      "7 5\n",
      "7 6\n",
      "7 7\n",
      "7 8\n",
      "7 9\n",
      "8 0\n",
      "8 1\n",
      "8 2\n",
      "8 3\n",
      "8 4\n",
      "8 5\n",
      "8 6\n",
      "8 7\n",
      "8 8\n",
      "8 9\n",
      "9 0\n",
      "9 1\n",
      "9 2\n",
      "9 3\n",
      "9 4\n",
      "9 5\n",
      "9 6\n",
      "9 7\n",
      "9 8\n",
      "9 9\n"
     ]
    }
   ],
   "source": [
    "for i in range(10):\n",
    "    for j in range(10):\n",
    "        print(i,j)"
   ]
  },
  {
   "cell_type": "markdown",
   "metadata": {},
   "source": [
    "## EP：\n",
    "- 使用多层循环完成9X9乘法表\n",
    "- 显示50以内所有的素数"
   ]
  },
  {
   "cell_type": "code",
   "execution_count": 55,
   "metadata": {},
   "outputs": [
    {
     "name": "stdout",
     "output_type": "stream",
     "text": [
      "1*1=1 \n",
      "2*1=2 2*2=4 \n",
      "3*1=3 3*2=6 3*3=9 \n",
      "4*1=4 4*2=8 4*3=12 4*4=16 \n",
      "5*1=5 5*2=10 5*3=15 5*4=20 5*5=25 \n",
      "6*1=6 6*2=12 6*3=18 6*4=24 6*5=30 6*6=36 \n",
      "7*1=7 7*2=14 7*3=21 7*4=28 7*5=35 7*6=42 7*7=49 \n",
      "8*1=8 8*2=16 8*3=24 8*4=32 8*5=40 8*6=48 8*7=56 8*8=64 \n",
      "9*1=9 9*2=18 9*3=27 9*4=36 9*5=45 9*6=54 9*7=63 9*8=72 9*9=81 \n"
     ]
    }
   ],
   "source": [
    "for i in range(1,10):\n",
    "    \n",
    "    for j in range(1,i+1):\n",
    "        x = i * j\n",
    "        print(str(i)+'*'+str(j)+'='+str(x)+' ',end='')\n",
    "    print()"
   ]
  },
  {
   "cell_type": "code",
   "execution_count": 63,
   "metadata": {},
   "outputs": [
    {
     "name": "stdout",
     "output_type": "stream",
     "text": [
      "2\n",
      "3\n",
      "5\n",
      "7\n",
      "11\n",
      "13\n",
      "17\n",
      "19\n",
      "23\n",
      "29\n",
      "31\n",
      "37\n",
      "41\n",
      "43\n",
      "47\n"
     ]
    }
   ],
   "source": [
    "for i in range(2,51):\n",
    "    for j in range(2,i):\n",
    "        if i % j == 0:\n",
    "            break\n",
    "    else:\n",
    "        print(i)\n",
    "        \n"
   ]
  },
  {
   "cell_type": "markdown",
   "metadata": {},
   "source": [
    "## 关键字 break 和 continue\n",
    "- break 跳出循环，终止循环\n",
    "- continue 跳出此次循环，继续执行"
   ]
  },
  {
   "cell_type": "markdown",
   "metadata": {},
   "source": [
    "## 注意\n",
    "![](../Photo/56.png)\n",
    "![](../Photo/57.png)"
   ]
  },
  {
   "cell_type": "markdown",
   "metadata": {},
   "source": [
    "# Homework\n",
    "- 1 \n",
    "![](./Photo/58.png)"
   ]
  },
  {
   "cell_type": "code",
   "execution_count": 81,
   "metadata": {},
   "outputs": [
    {
     "name": "stdout",
     "output_type": "stream",
     "text": [
      "输入整数：1\n",
      "输入整数：2\n",
      "输入整数：-1\n",
      "输入整数：0\n",
      "0.6666666666666666\n",
      "负数的个数是：1\n",
      "正数的个数是2\n"
     ]
    }
   ],
   "source": [
    "num = eval(input('输入整数：'))\n",
    "i = 0\n",
    "j = 0\n",
    "sum_ = 0\n",
    "while num != 0:\n",
    "    if num < 0:\n",
    "        i += 1\n",
    "    elif num > 0:\n",
    "        j += 1\n",
    "    sum_ = sum_ + num\n",
    "    num = eval(input('输入整数：'))\n",
    "print (float(sum_/(i+j)))\n",
    "print ('负数的个数是：'+str(i))\n",
    "print ('正数的个数是'+str(j))"
   ]
  },
  {
   "cell_type": "markdown",
   "metadata": {},
   "source": [
    "- 2\n",
    "![](./Photo/59.png)"
   ]
  },
  {
   "cell_type": "code",
   "execution_count": 80,
   "metadata": {},
   "outputs": [
    {
     "name": "stdout",
     "output_type": "stream",
     "text": [
      "输入现在的学费：10000\n",
      "查询多少年以后的学费：10\n",
      "10年后的学费是16288.946267774414，从现在开始到10后的学费总共是132067.87162326268\n"
     ]
    }
   ],
   "source": [
    "num = eval(input('输入现在的学费：'))\n",
    "year = eval(input('查询多少年以后的学费：'))\n",
    "countmoney = 0\n",
    "for i in range(year):\n",
    "    num = num+num*0.05\n",
    "    countmoney += num\n",
    "print (str(year)+'年后的学费是'+str(num)+'，从现在开始到'+str(year)+'后的学费总共是'+str(countmoney))"
   ]
  },
  {
   "cell_type": "markdown",
   "metadata": {},
   "source": [
    "- 3\n",
    "![](./Photo/58.png)"
   ]
  },
  {
   "cell_type": "code",
   "execution_count": null,
   "metadata": {},
   "outputs": [],
   "source": []
  },
  {
   "cell_type": "markdown",
   "metadata": {},
   "source": [
    "- 4\n",
    "![](./Photo/60.png)"
   ]
  },
  {
   "cell_type": "code",
   "execution_count": 117,
   "metadata": {},
   "outputs": [
    {
     "name": "stdout",
     "output_type": "stream",
     "text": [
      "120 150 180 210 240 270 300 330 360 390 \n",
      "420 450 480 510 540 570 600 630 660 690 \n",
      "720 750 780 810 840 870 900 930 960 990 \n"
     ]
    }
   ],
   "source": [
    "for i in range(100,1001):\n",
    "    if (i % 5 == 0) and (i % 6 == 0):\n",
    "        print(str(i)+' ',end='')\n",
    "        j += 1\n",
    "        if j == 10:\n",
    "            print()\n",
    "            j = 0"
   ]
  },
  {
   "cell_type": "markdown",
   "metadata": {},
   "source": [
    "- 5\n",
    "![](./Photo/61.png)"
   ]
  },
  {
   "cell_type": "code",
   "execution_count": null,
   "metadata": {},
   "outputs": [
    {
     "name": "stdout",
     "output_type": "stream",
     "text": [
      "最大的n^3<12000的是22\n",
      "最小的n^2>12000的是110\n"
     ]
    }
   ],
   "source": [
    "n = 0\n",
    "i= 0\n",
    "j=0\n",
    "while True:\n",
    "    n += 1\n",
    "    if n*n > 12000:\n",
    "        if j == 1:\n",
    "            continue\n",
    "        print('最小的n^2>12000的是'+str(n))\n",
    "        j= j+1\n",
    "    if n**3 > 12000:\n",
    "        if i == 1:\n",
    "            continue\n",
    "        print('最大的n^3<12000的是'+str(n-1))\n",
    "        i=i+1"
   ]
  },
  {
   "cell_type": "markdown",
   "metadata": {},
   "source": [
    "- 6\n",
    "![](./Photo/62.png)"
   ]
  },
  {
   "cell_type": "code",
   "execution_count": 2,
   "metadata": {},
   "outputs": [
    {
     "data": {
      "text/plain": [
       "10500.0"
      ]
     },
     "execution_count": 2,
     "metadata": {},
     "output_type": "execute_result"
    }
   ],
   "source": [
    "#F=P*(1+i)**n  p是本金，n=月数，是利率\n",
    "10000 * (1+0.05)**1\n"
   ]
  },
  {
   "cell_type": "markdown",
   "metadata": {},
   "source": [
    "- 7\n",
    "![](./Photo/63.png)"
   ]
  },
  {
   "cell_type": "code",
   "execution_count": 3,
   "metadata": {},
   "outputs": [
    {
     "name": "stdout",
     "output_type": "stream",
     "text": [
      "11.397003949278519\n",
      "11.397003949278504\n"
     ]
    }
   ],
   "source": [
    "sum_ = 0\n",
    "sum_1 = 0\n",
    "i = 50000\n",
    "for n in range(1,50001):\n",
    "    sum_ = sum_ + (1/n)\n",
    "while i > 0:\n",
    "    sum_1 = sum_1 + (1/i)\n",
    "    i = i-1\n",
    "print(sum_1)\n",
    "print(sum_)"
   ]
  },
  {
   "cell_type": "markdown",
   "metadata": {},
   "source": [
    "- 8\n",
    "![](./Photo/64.png)"
   ]
  },
  {
   "cell_type": "code",
   "execution_count": 10,
   "metadata": {},
   "outputs": [
    {
     "name": "stdout",
     "output_type": "stream",
     "text": [
      "45.124450303050196\n"
     ]
    }
   ],
   "source": [
    "sum_ = 0\n",
    "for i in range(1,98,2):\n",
    "    sum_ = sum_ + i / (i+2)\n",
    "print(sum_)"
   ]
  },
  {
   "cell_type": "markdown",
   "metadata": {},
   "source": [
    "- 9\n",
    "![](./Photo/65.png)"
   ]
  },
  {
   "cell_type": "code",
   "execution_count": 2,
   "metadata": {},
   "outputs": [
    {
     "name": "stdout",
     "output_type": "stream",
     "text": [
      "3.1414926535900345\n",
      "3.1415426535898248\n",
      "3.1415826535897198\n"
     ]
    }
   ],
   "source": [
    "P1 = 0\n",
    "P2 = 0\n",
    "P3 = 0\n",
    "for i in range(1,10001):\n",
    "    P1 += ((-1)**(i-1)/(2*i-1))*4\n",
    "for j in range(1,20001):\n",
    "    P2 += ((-1)**(j-1)/(2*j-1))*4\n",
    "for k in range(1,100001):\n",
    "    P3 += ((-1)**(k-1)/(2*k-1))*4\n",
    "print(P1)\n",
    "print(P2)\n",
    "print(P3)"
   ]
  },
  {
   "cell_type": "markdown",
   "metadata": {},
   "source": [
    "- 10 \n",
    "![](./Photo/66.png)"
   ]
  },
  {
   "cell_type": "code",
   "execution_count": 2,
   "metadata": {},
   "outputs": [
    {
     "name": "stdout",
     "output_type": "stream",
     "text": [
      "6\n",
      "28\n",
      "496\n",
      "8128\n"
     ]
    }
   ],
   "source": [
    "sum_ = 0\n",
    "i = 0\n",
    "j = 0\n",
    "for i in range(1,10001):\n",
    "    for j in range(1,i):\n",
    "        if i%j == 0:\n",
    "            sum_ += j\n",
    "    if sum_ == i:\n",
    "            print(i)\n",
    "    sum_ = 0"
   ]
  },
  {
   "cell_type": "markdown",
   "metadata": {},
   "source": [
    "- 11\n",
    "![](./Photo/67.png)"
   ]
  },
  {
   "cell_type": "code",
   "execution_count": 7,
   "metadata": {},
   "outputs": [
    {
     "name": "stdout",
     "output_type": "stream",
     "text": [
      "1 2\n",
      "1 3\n",
      "1 4\n",
      "1 5\n",
      "1 6\n",
      "1 7\n",
      "2 3\n",
      "2 4\n",
      "2 5\n",
      "2 6\n",
      "2 7\n",
      "3 4\n",
      "3 5\n",
      "3 6\n",
      "3 7\n",
      "4 5\n",
      "4 6\n",
      "4 7\n",
      "5 6\n",
      "5 7\n",
      "6 7\n",
      "一共有21种组合\n"
     ]
    }
   ],
   "source": [
    "k = 0\n",
    "for i in range(1,8):\n",
    "    for j in range(i,8):\n",
    "        if i != j:\n",
    "            print(str(i)+' '+str(j))\n",
    "            k = k + 1\n",
    "print('一共有'+str(k)+'种组合')"
   ]
  },
  {
   "cell_type": "markdown",
   "metadata": {},
   "source": [
    "- 12\n",
    "![](./Photo/68.png)"
   ]
  },
  {
   "cell_type": "code",
   "execution_count": 11,
   "metadata": {},
   "outputs": [
    {
     "name": "stdout",
     "output_type": "stream",
     "text": [
      "输入年龄：1\n",
      "输入年龄：2\n",
      "输入年龄：3\n",
      "输入年龄：5.5\n",
      "输入年龄：5.6\n",
      "输入年龄：6\n",
      "输入年龄：7\n",
      "输入年龄：8\n",
      "输入年龄：9\n",
      "输入年龄：10\n",
      "1.1127470238095238\n",
      "8.659790358948907\n"
     ]
    }
   ],
   "source": [
    "i = 0\n",
    "average = 0\n",
    "fangcha = 0\n",
    "count_age = 0\n",
    "age = 0\n",
    "while i < 10 :\n",
    "    age = eval(input('输入年龄：'))\n",
    "    i += 1\n",
    "    count_age = count_age + age\n",
    "    if i == 10:\n",
    "        \n",
    "    fangcha = ((fangcha+(age - average)**2))\n",
    "print (average)\n",
    "print (fangcha)"
   ]
  }
 ],
 "metadata": {
  "kernelspec": {
   "display_name": "Python 3",
   "language": "python",
   "name": "python3"
  },
  "language_info": {
   "codemirror_mode": {
    "name": "ipython",
    "version": 3
   },
   "file_extension": ".py",
   "mimetype": "text/x-python",
   "name": "python",
   "nbconvert_exporter": "python",
   "pygments_lexer": "ipython3",
   "version": "3.6.4"
  }
 },
 "nbformat": 4,
 "nbformat_minor": 2
}
